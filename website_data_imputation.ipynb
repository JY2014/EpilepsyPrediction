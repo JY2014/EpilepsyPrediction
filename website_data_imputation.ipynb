{
 "cells": [
  {
   "cell_type": "code",
   "execution_count": 1,
   "metadata": {
    "collapsed": false
   },
   "outputs": [
    {
     "data": {
      "text/html": [
       "<script>\n",
       "code_show=true;\n",
       "function code_toggle() {\n",
       " if (code_show){\n",
       " $('div.input').hide();\n",
       " } else {\n",
       " $('div.input').show();\n",
       " }\n",
       " code_show = !code_show\n",
       "}\n",
       "$( document ).ready(code_toggle);\n",
       "</script>\n",
       "<form action=\"javascript:code_toggle()\"><input type=\"submit\" value=\"Click here to toggle on/off the raw code.\"></form>"
      ],
      "text/plain": [
       "<IPython.core.display.HTML object>"
      ]
     },
     "execution_count": 1,
     "metadata": {},
     "output_type": "execute_result"
    }
   ],
   "source": [
    "from IPython.display import HTML\n",
    "\n",
    "HTML('''<script>\n",
    "code_show=true;\n",
    "function code_toggle() {\n",
    " if (code_show){\n",
    " $('div.input').hide();\n",
    " } else {\n",
    " $('div.input').show();\n",
    " }\n",
    " code_show = !code_show\n",
    "}\n",
    "$( document ).ready(code_toggle);\n",
    "</script>\n",
    "<form action=\"javascript:code_toggle()\"><input type=\"submit\" value=\"Click here to toggle on/off the raw code.\"></form>''')"
   ]
  },
  {
   "cell_type": "code",
   "execution_count": 2,
   "metadata": {
    "collapsed": false
   },
   "outputs": [
    {
     "data": {
      "text/html": [
       "\n",
       "<a href=\"https://jy2014.github.io/EpilepsyPrediction/Home.html\" target=\"_self\">Back to the Home Page</a>"
      ],
      "text/plain": [
       "<IPython.core.display.HTML object>"
      ]
     },
     "metadata": {},
     "output_type": "display_data"
    }
   ],
   "source": [
    "%%html\n",
    "\n",
    "<a href=\"https://jy2014.github.io/EpilepsyPrediction/Home.html\" target=\"_self\">Back to the Home Page</a>"
   ]
  },
  {
   "cell_type": "markdown",
   "metadata": {},
   "source": [
    "# Chapter 2. Data Imputation\n",
    "___\n",
    "<p></p>\n",
    "<font size = \"3\">Survey data sets usually contain missing value due to various reasons, such as missing in error or the respondents refusing to provide answers to certain questions. The dataset of NSCH also faces this missing value problem. Our first task is to impute the missing values in the data set. According to the missingness, type of the question and logic in the survey, we employed different strategies to impute different groups of variables. </font>"
   ]
  },
  {
   "cell_type": "markdown",
   "metadata": {},
   "source": [
    "<font size = '3'>\n",
    "- [2.1. Exploring Non-Numerical Data Entries](#2.1.Exploring-Non-Numerical-Data-Entries)\n",
    "- [2.2. Reading Data and Exploring Indicators in Variables ](#2.2.Reading-Data-and-Exploring-Indicators-in-Variables)\n",
    "- [2.3. Get Frequency of Categorical Indicators in Different Variables](#2.3.Get-Frequency-of-Categorical-Indicators-in-Different-Variables)\n",
    "- [2.4. Rank Variables by Missingness](#2.4.Rank-Variables-by-Missingness)\n",
    "- [2.5. Strategy of Handling Categorical Indicators and Missing Data](#2.5.Strategy-of-Handling-Categorical-Indicators-and-Missing-Data)\n",
    "- [2.6. Dropping Extreme Missingness and Uncompleted Surveys](#2.6.Dropping-Extreme-Missingness-and-Uncompleted-Surveys)\n",
    "- [2.7. Simple Imputation of Some Columns with Missing Data Using Mean or Majority](#2.7.Simple-Imputation-of-Some-Columns-with-Missing-Data-Using-Mean-or-Majority)\n",
    "- [2.8. Imputing Poverty Level](#2.8.Imputing-Poverty-Level)\n",
    "___"
   ]
  },
  {
   "cell_type": "markdown",
   "metadata": {},
   "source": [
    "*** please click the button on top of the page to view the code ***"
   ]
  },
  {
   "cell_type": "code",
   "execution_count": 4,
   "metadata": {
    "collapsed": true
   },
   "outputs": [],
   "source": [
    "#### USING NSCH 2007 Data and NSCH 2007 Variable Description PDF, explore data missingness\n",
    "from IPython.display import Image\n",
    "\n",
    "import numpy as np\n",
    "import pandas as pd\n",
    "import sklearn.preprocessing as Preprocessing\n",
    "from sklearn.preprocessing import StandardScaler as Standardize\n",
    "\n",
    "from sklearn.ensemble import RandomForestClassifier as RandomForest\n",
    "from sklearn.linear_model import LogisticRegression as Log\n",
    "from sklearn.discriminant_analysis import LinearDiscriminantAnalysis as LDA\n",
    "from sklearn.discriminant_analysis import QuadraticDiscriminantAnalysis as QDA\n",
    "from sklearn.preprocessing import OneHotEncoder\n",
    "from sklearn.model_selection import GridSearchCV\n",
    "from sklearn.model_selection import StratifiedKFold\n",
    "from sklearn.model_selection import cross_val_predict\n",
    "from sklearn.model_selection import train_test_split\n",
    "\n",
    "import itertools as it\n",
    "import matplotlib as plt\n",
    "% matplotlib inline\n",
    "\n",
    "# Be able to print more text\n",
    "pd.options.display.max_colwidth = 1000  "
   ]
  },
  {
   "cell_type": "markdown",
   "metadata": {},
   "source": [
    "___\n",
    "## 2.1.Exploring Non-Numerical Data Entries ##\n",
    "<p></p>\n",
    "<p><font size = \"3\">In the NSCH 2007, possible categorical responses to questions include <b>numerical values</b> denoting \"No\", \"Yes\", or refusal to answer, as well as <b>categorical indicators</b> denoting skipped questions or missing data.</p>\n",
    "<p></p>\n",
    "<p>Because Python's classification algorithms take only numerical inputs, we first explored the <b>prevalence and meaning of non-numerical indicators in our dataset.</b></p> \n",
    "\n",
    "### Description of Categorical Indicators in Survey Responses ###\n",
    "<p></p>\n",
    "<p><font size = \"3\">The [survey methodology](https://www.cdc.gov/nchs/data/series/sr_01/sr01_055.pdf) from the US Center of Disease Control includes descriptions of categorical indicators in the NSCH 2007.</font><p>\n",
    "<p></p>\n",
    "<img src = \"https://cloud.githubusercontent.com/assets/9686980/21193034/bf41c456-c1f8-11e6-9abe-00870b523ec8.jpg\" alt=\"table with description of categorical indicators\"/>"
   ]
  },
  {
   "cell_type": "markdown",
   "metadata": {},
   "source": [
    "### **Example Question:** \n",
    "<p></p>\n",
    "<font size = \"3\"><b>To illustrate the meaning of these categorical indicators, we included an example from the NSCH Survey Methodology</b>. Question K2Q31A was preceded by the question \"Has a doctor... ever told you that [Child] had emotional, developmental, or behavioral problems?\". Families who responded \"NO\" to this precedent question were not asked about K2Q31A, and represent \"Legitimate Skips\" in the dataset. \"Missing\" values denote erroneously skipped entries.</font>"
   ]
  },
  {
   "cell_type": "code",
   "execution_count": 3,
   "metadata": {
    "collapsed": false
   },
   "outputs": [
    {
     "data": {
      "image/jpeg": "[encoded data removed]",
      "text/plain": [
       "<IPython.core.display.Image object>"
      ]
     },
     "execution_count": 3,
     "metadata": {},
     "output_type": "execute_result"
    }
   ],
   "source": [
    "Image('pic/nsch_imputation.jpg')"
   ]
  },
  {
   "cell_type": "markdown",
   "metadata": {},
   "source": [
    "___\n",
    "## 2.2.Reading Data and Exploring Indicators in Variables ##\n"
   ]
  },
  {
   "cell_type": "markdown",
   "metadata": {},
   "source": [
    "<font size = \"3\">Our data were downloaded from the [CDC website](https://www.cdc.gov/nchs/slaits/nsch.htm) in <b>SAS4BDAT format</b>. We used the program SAS to read the data and convert it to a CSV file. This CSV file was then read into Python using Pandas. In a separate script, we processed the NSCH 2007 Variable Description PDF to create a CSV containing variable names and their associated questions. </font>"
   ]
  },
  {
   "cell_type": "code",
   "execution_count": 4,
   "metadata": {
    "collapsed": false
   },
   "outputs": [
    {
     "name": "stderr",
     "output_type": "stream",
     "text": [
      "//anaconda/lib/python2.7/site-packages/IPython/core/interactiveshell.py:2717: DtypeWarning: Columns (2,3,4,9,232,233,235) have mixed types. Specify dtype option on import or set low_memory=False.\n",
      "  interactivity=interactivity, compiler=compiler, result=result)\n"
     ]
    },
    {
     "name": "stdout",
     "output_type": "stream",
     "text": [
      "Total Shape of NSCH 2007 Dataset (91642, 298)\n",
      "Example Entry in NSCH 2007 Dataset: \n",
      "   IDNUMR  STATE MSA_STAT TOTKIDS4 AGEPOS4  AGEYR_CHILD  FLG_06_MNTH  \\\n",
      "0   90597      3        1        3       3           10            0   \n",
      "1   13527     26        2        1       1           10            0   \n",
      "2   70867     43        1        1       1           17            0   \n",
      "\n",
      "   FLG_18_MNTH  SEX RELATION     ...      K11Q37AR  K11Q43R K11Q50  \\\n",
      "0            0    2        2     ...             M        3      1   \n",
      "1            0    2        1     ...             M        1      1   \n",
      "2            0    1        1     ...             M        4      1   \n",
      "\n",
      "  POVERTY_LEVELR K11Q60  K11Q61  K11Q62 OTH_LANG SUMMER      NSCHWT  \n",
      "0              6      0       0       0        0      0  460.575625  \n",
      "1              7      L       L       L        0      1  158.913350  \n",
      "2              3      0       0       0        0      0  163.073003  \n",
      "\n",
      "[3 rows x 298 columns]\n"
     ]
    }
   ],
   "source": [
    "# Load NSCH 2007\n",
    "nsch_df = pd.read_csv ('NSCH_2007.csv')\n",
    "\n",
    "# WARNING: sys:1: DtypeWarning: Columns (2,3,4,9,232,233,235) have mixed types. Specify dtype option on import or set low_memory=False.\n",
    "col_names = nsch_df.columns\n",
    "\n",
    "# Read CSV containing variable names and descriptions\n",
    "var_description = pd.read_csv ('variable_description.csv')\n",
    "\n",
    "print 'Total Shape of NSCH 2007 Dataset', nsch_df.shape\n",
    "print 'Example Entry in NSCH 2007 Dataset:', '\\n', nsch_df.head (n=3)"
   ]
  },
  {
   "cell_type": "markdown",
   "metadata": {},
   "source": [
    "<font size = \"3\"><b>Evidently, our raw dataset is large and includes over 90,000 entries with approximately 300 features</b>. In addition, the majority of features appear to be <b>categorical</b>, and include both <b>numeric and character value datatypes</b>. This initial examination of our dataset demonstrates several possible challenges. First, because the Python Sklearn package, which we aimed to use for classification, does not allow for character inputs, we decided to identify methods to handle with these indicators. Second, the size of the dataset suggests that computation time may be slow, especially while cross validating parameters. </font>"
   ]
  },
  {
   "cell_type": "markdown",
   "metadata": {},
   "source": [
    "___\n",
    "## 2.3.Get Frequency of Categorical Indicators in Different Variables##"
   ]
  },
  {
   "cell_type": "markdown",
   "metadata": {},
   "source": [
    "<font size = \"3\">To substitute numerical values for categorical indicators in different variables, as well as handle missing data, we first counted the number of categorical indicators of each type in different variables. <font>\n",
    "<p></p>\n",
    "\n",
    "<p><font size = \"3\"><b>Here is an output of the counts: </b></font></p>"
   ]
  },
  {
   "cell_type": "code",
   "execution_count": 5,
   "metadata": {
    "collapsed": false,
    "scrolled": false
   },
   "outputs": [
    {
     "name": "stdout",
     "output_type": "stream",
     "text": [
      "Categorical Indicator Counts in each Feature: \n",
      "                    N      L     P      M  A  D\n",
      "IDNUMR              0      0     0      0  0  0\n",
      "STATE               0      0     0      0  0  0\n",
      "MSA_STAT            0  28485     0      0  0  0\n",
      "TOTKIDS4            0      0     0      1  0  0\n",
      "AGEPOS4             0      0     0      1  0  0\n",
      "AGEYR_CHILD         0      0     0      0  0  0\n",
      "FLG_06_MNTH         0      0     0      0  0  0\n",
      "FLG_18_MNTH         0      0     0      0  0  0\n",
      "SEX                 0      0     0      0  0  0\n",
      "RELATION            0      0     0      1  0  0\n",
      "PLANGUAGE           0      0     0      0  0  0\n",
      "K2Q01               0      0     0      0  0  0\n",
      "K2Q01_D             0   4769     0     19  0  0\n",
      "K2Q02R          45745      0     0      0  0  0\n",
      "HGHT_FLG        45745      0     0      0  0  0\n",
      "K2Q03R              0      0     0      0  0  0\n",
      "WGHT_FLG            0      0     0      0  0  0\n",
      "BMICLASS        45745      0     0   1796  0  0\n",
      "K2Q04R              0      0     0  64830  0  0\n",
      "BWGHT_FLG           0      0     0      0  0  0\n",
      "K2Q10               0      0     0      0  0  0\n",
      "K2Q11               0  71806     0      0  0  0\n",
      "K2Q12               0  74990     0      0  0  0\n",
      "K2Q13               0      0     0      0  0  0\n",
      "K2Q14               0  80770     0      0  0  0\n",
      "K2Q15               0  83342     0      0  0  0\n",
      "K2Q16               0      0     0      0  0  0\n",
      "K2Q17               0  86292     0      0  0  0\n",
      "K2Q18               0  87562     0      0  0  0\n",
      "K2Q19               0      0     0      0  0  0\n",
      "...               ...    ...   ...    ... .. ..\n",
      "K10Q32              0      0   814      0  0  0\n",
      "K10Q34              0      0   823      0  0  0\n",
      "K10Q40              0      0   834      0  0  0\n",
      "K10Q41              0  28902   844      0  0  0\n",
      "HISPANIC            0      0     0    839  0  0\n",
      "RACER               0      0     0   5439  0  0\n",
      "RACE_HI             0  89820     0     81  0  0\n",
      "RACEASIA            0  75559     0   1435  0  0\n",
      "RACEAIAN            0  79164     0    859  0  0\n",
      "K11Q03R             0  90220   133      0  0  0\n",
      "EDUC_MOMR           0   5261   883    261  0  0\n",
      "EDUC_DADR           0  17642   919    559  0  0\n",
      "EDUC_RESR           0  85301   922      6  0  0\n",
      "K11Q30              0   5260   922    226  0  0\n",
      "K11Q31              0  17642   924    555  0  0\n",
      "K11Q32              0  85296   927      1  0  0\n",
      "K11Q33              0      0   927      0  0  0\n",
      "K11Q34AR            0      0     0  80761  0  0\n",
      "K11Q35AR            0      0     0  82875  0  0\n",
      "K11Q36AR            0      0     0  91190  0  0\n",
      "K11Q37AR            0      0     0  89072  0  0\n",
      "K11Q43R             0      0   937      0  0  0\n",
      "K11Q50              0      0   943      0  0  0\n",
      "POVERTY_LEVELR      0      0     0   7817  0  0\n",
      "K11Q60              0  44859  1060      1  0  0\n",
      "K11Q61              0  44859  1065      1  0  0\n",
      "K11Q62              0  47146  1066     26  0  0\n",
      "OTH_LANG            0      0     0   1085  0  0\n",
      "SUMMER              0      0     0      0  0  0\n",
      "NSCHWT              0      0     0      0  0  0\n",
      "\n",
      "[298 rows x 6 columns]\n"
     ]
    }
   ],
   "source": [
    "# Indicator characters denoting: not in universe, legit skip, partial completion, missing in error, added question, deleted question\n",
    "indicator_char = ['N', 'L', 'P', 'M', 'A', 'D']\n",
    "                          \n",
    "# FUNCTION: get_indicator_chars: takes dataframe and counts the number of categorical indicators in each column,\n",
    "# identifies whether columns are categorical/quantitative.\n",
    "# INPUTS:\n",
    "    # df: Dataframe\n",
    "    # indicator_char: list of indicator characters in dataset (default ['N', 'L', 'P', 'M', 'A', 'D'] )\n",
    "    # Threshold: int, max number of unique values for variable to be coded as \"categorical\" (default 20)\n",
    "# OUTPUTS:\n",
    "    # List of categorical column indices\n",
    "    # List of categorical column names\n",
    "    # df of variables with counts of indicator chars\n",
    "    \n",
    "def get_indicator_chars (df, indicator_char = ['N', 'L', 'P', 'M', 'A', 'D'], threshold = 20):\n",
    "    col_names = df.columns\n",
    "    \n",
    "    num_char = np.zeros((len(col_names), len(indicator_char)))\n",
    "    categorical_col = np.zeros((len(col_names)))\n",
    "\n",
    "    # Explore missingness: Look for character-coded values\n",
    "    for i in range(len(col_names)):\n",
    "        \n",
    "        # Get counts of unique values in each column\n",
    "        unique_value_counts = df[col_names[i]].value_counts(sort = True, dropna = False)\n",
    "        \n",
    "        # Determine if categorical\n",
    "        categorical_col[i] = len(unique_value_counts) < threshold\n",
    "        \n",
    "        for c in range(len(indicator_char)):\n",
    "            try:\n",
    "                # Get number of entries with indicator char (IF EXISTS, ELSE returns error)\n",
    "                num_char[i,c] = unique_value_counts[indicator_char[c]]\n",
    "            except:\n",
    "                # If error returned, set to zero (not found)\n",
    "                num_char[i,c] = 0\n",
    "    # Categorical Column Names\n",
    "    cat_col_names = col_names[np.where(categorical_col)[0]]\n",
    "    \n",
    "    # Create Dataframe containing Indicator Chars per Column\n",
    "    coded_indicators_df = pd.DataFrame(data = num_char, index = col_names, columns = indicator_char, dtype = int)\n",
    "    \n",
    "    return categorical_col, cat_col_names, coded_indicators_df\n",
    "\n",
    "categorical_col, cat_col_names, coded_indicators_df = get_indicator_chars (nsch_df)\n",
    "\n",
    "print 'Categorical Indicator Counts in each Feature:', '\\n', coded_indicators_df"
   ]
  },
  {
   "cell_type": "markdown",
   "metadata": {},
   "source": [
    "<font size=\"3\"> From visually examining the frequency of categorical indicators in each feature, it appears that there are some features with very few coded values, and that a large proportion of coded values indicate Legitimate Skips (\"L\"). Moreover, there are some survey questions with large numbers of Missing (\"M\") values, which will also be handled. </font>"
   ]
  },
  {
   "cell_type": "markdown",
   "metadata": {},
   "source": [
    "___\n",
    "## 2.4.Rank Variables by Missingness ##"
   ]
  },
  {
   "cell_type": "markdown",
   "metadata": {},
   "source": [
    "<font size = \"3\">To determine which variables have the largest number of missing values (coded as \"M\"), we sorted the above dataframe, visualized the extent of missingness, and printed out the descriptions of the questions. The <b>questions with the most missing questions are related to immigration status and parental cohabitation</b>.</font> "
   ]
  },
  {
   "cell_type": "code",
   "execution_count": 7,
   "metadata": {
    "collapsed": false,
    "scrolled": false
   },
   "outputs": [],
   "source": [
    "# Examine Missing\n",
    "sorted_M = coded_indicators_df['M'].sort_values(ascending = False)\n",
    "# print 'Variables by number of Missing Values:', '\\n', sorted_M"
   ]
  },
  {
   "cell_type": "markdown",
   "metadata": {},
   "source": [
    "### Total Responses Missing, Ranked\n",
    "<p></p>\n",
    "<font size = \"3\">The figure below shows the counts of 'M' responses in features, sorted by count values. </font>"
   ]
  },
  {
   "cell_type": "code",
   "execution_count": 8,
   "metadata": {
    "collapsed": false
   },
   "outputs": [
    {
     "data": {
      "text/plain": [
       "<matplotlib.text.Text at 0x117c08cd0>"
      ]
     },
     "execution_count": 8,
     "metadata": {},
     "output_type": "execute_result"
    },
    {
     "data": {
      "image/png": "[encoded data removed]",
      "text/plain": [
       "<matplotlib.figure.Figure at 0x11636aed0>"
      ]
     },
     "metadata": {},
     "output_type": "display_data"
    }
   ],
   "source": [
    "ax_missing = sorted_M[:20].plot(kind = 'bar', title = 'Total Responses Missing, Ranked')\n",
    "ax_missing.set_xlabel('Feature')\n",
    "ax_missing.set_ylabel('Counts')\n",
    "\n",
    "# # Get Descriptions of top 10 missing vars\n",
    "# print 'Descriptions of top 10 missing vars:', '\\n'\n",
    "# for i in range(10):\n",
    "#     print var_description.loc[var_description['variable'] == sorted_M.index[i]]['descriptions'], '\\n'"
   ]
  },
  {
   "cell_type": "markdown",
   "metadata": {},
   "source": [
    "___\n",
    "## 2.5.Strategy of Handling Categorical Indicators and Missing Data##\n",
    "<p></p>\n",
    "<font size = \"3\"><p>Given that our dataset contains many missing values, we had to consider whether the features containing too many missing values would influence the performance of the model in predicting epilepsy diagnosis. Therefore, if we tried to impute the missing values of dataset, we need to consider thoughtfully for both design of survey and nature of questions instead of just simply filling the dataset with mean, zeros or majority vote.<p>\n",
    "<p></p>\n",
    "<p>Options for handling missing data include dropping all features or entries with missing values, which would reduce the size of our training set significantly. Alternatively, to preserve the size of the dataset, several imputation methods including mean, zeros, majority vote or even fitting models based on other features without missing values can be used to fill in missing data. In our dataset, most predictors are categorical (including questions with a few response options) and take on a small set of values, while some other predictors are quantitative (ex: height and weight).<p>\n",
    "<p></p>\n",
    "<p><b>Our methods are summarized in the below table, and are described in more detail in the next three sections</b>.</p>\n",
    "<p></p></font>"
   ]
  },
  {
   "cell_type": "markdown",
   "metadata": {},
   "source": [
    "<font size = \"4\"><b>Summary Table: Handling of Categorical Indicators</b><font>"
   ]
  },
  {
   "cell_type": "markdown",
   "metadata": {
    "collapsed": false
   },
   "source": [
    "<img src=\"https://cloud.githubusercontent.com/assets/9686980/21193038/c2606426-c1f8-11e6-9354-3cfebe9e1826.jpg\" alt=\"handling the missing data\" />"
   ]
  },
  {
   "cell_type": "markdown",
   "metadata": {},
   "source": [
    "___\n",
    "## 2.6.Dropping Extreme Missingness and Uncompleted Surveys##\n",
    "<p></p>\n",
    "<p><font size = \"3\">To handle the missing data, we first ranked features by the proportion missing and examined the data for a natural cutoff. There are only 5 features with more than 60% of values missing, most of which are related to family immigration status. Because this missingness affects a large proprtion of entries, and because we did not believe immigration to be a critical predictor of epilepsy status or quality of life, we decided to <b>drop columns with more than 60% missingness</b>. Therefore, the next feature with most missingness was Poverty Level, which describes household income based on an 8-level scale determined by the Department of Health and Human Services. The imputation of Poverty Level is described in Section 2.8. <p>\n",
    "<p></p>\n",
    "<p>To handle <b>indicators of incomplete surveys</b>, including P, A, and D, we noticed that only 1 column contained A or D values, indicating that these questions were added or deleted after the survey started. Because these constituted a small portion of the dataset, we decided to remove this column. In addition, there were only 5 rows (respondents) with any P values (indicating a prematurely ended interview), so we decided to drop these respondents due to their small number. </p></font>"
   ]
  },
  {
   "cell_type": "code",
   "execution_count": 9,
   "metadata": {
    "collapsed": false
   },
   "outputs": [
    {
     "name": "stdout",
     "output_type": "stream",
     "text": [
      "Number of P entries left: 0\n",
      "New shape: (90576, 292)\n"
     ]
    }
   ],
   "source": [
    "### HANDLING THE MISSING DATA\n",
    "\n",
    "# Drop the columns missing over 50,000 values\n",
    "# After that, the missing vars are related to demographics (poverty, race, marriage, language)\n",
    "nsch_drop_df = nsch_df.drop(sorted_M[sorted_M > 50000].index, axis = 1)\n",
    "len(nsch_drop_df.columns)\n",
    "\n",
    "# Drop columns with A or D\n",
    "nsch_drop_ad_df = nsch_drop_df.drop('K2Q30D', axis= 1)\n",
    "\n",
    "# Drop rows with P (did not complete survey)\n",
    "# How many rows have P = 1066\n",
    "rows_with_P = np.where(np.sum(nsch_drop_ad_df.values == 'P', axis = 1))[0]\n",
    "nsch_drop_adp_df = nsch_drop_ad_df.drop(rows_with_P, axis = 0)\n",
    "\n",
    "# Check how many p left ( should be 0)\n",
    "print 'Number of P entries left:', np.sum(nsch_drop_adp_df.values == 'P')\n",
    "print 'New shape:', nsch_drop_adp_df.shape\n",
    "final_cols = nsch_drop_adp_df.columns\n",
    "\n",
    "\n",
    "### Explore which of L are categorical\n",
    "# L - another category\n",
    "((coded_indicators_df['L'] > 0).values)*(1-categorical_col)\n",
    "\n",
    "# Column\n",
    "col_names[np.where(((coded_indicators_df['L'] > 0).values)*(1-categorical_col))[0]]\n",
    "          \n",
    "# Columns with L\n",
    "cat_col_L = col_names[np.where(categorical_col == 1)[0]] # Categorical columns names\n",
    "\n",
    "noncat_col_L = col_names[np.where(((coded_indicators_df['L'] > 0).values)*(1-categorical_col))[0]]\n",
    "\n",
    "# Noncategorical L questions             \n",
    "noncat_L_questions = [var_description.loc[var_description['variable'] == noncat_col_L[i]].descriptions for i in range(len(noncat_col_L))]\n",
    " \n",
    "# for j in range(len(noncat_col_L)):\n",
    "#     print noncat_L_questions[j] + '\\n'\n",
    "\n",
    "### N \n",
    "N_cols = col_names[np.where((coded_indicators_df['N'] > 0 ))[0]]\n",
    "\n",
    "# Find noncategorical N columns\n",
    "noncat_col_N = col_names[np.where(((coded_indicators_df['N'] > 0).values)*(1-categorical_col))[0]]         \n",
    "noncat_N_questions =[var_description.loc[var_description['variable'] == noncat_col_N[i]].descriptions for i in range(len(noncat_col_N))]\n",
    "\n",
    "# for j in range(len(noncat_col_N)):\n",
    "#     print noncat_N_questions[j] + '\\n'\n",
    "# Lots of intersection between L, N, so treat the same! Need to manually go thru and see what to do with each\n"
   ]
  },
  {
   "cell_type": "markdown",
   "metadata": {},
   "source": [
    "___\n",
    "## 2.7.Simple Imputation of Some Columns with Missing Data Using Mean or Majority##\n",
    "<p></p>\n",
    "<font size = \"3\">Based on the design of the survey and nature of questions, we either imputed mean or majority or zeros, or created different categories for categorical indicator variables. However, for Poverty Level, we decided to <b>use models based on other predictors for imputation</b>. We chose to do this because Poverty Level, as a measure of household income, is an important demographic characteristic that is associated with health and healthcare access, and thus may be predictive of epilepsy status. After filling in missing data in the other columns using mean and majority imputaiton, we acquired a dataset that we could use to impute Poverty Level, described in Section 2.8.</font>"
   ]
  },
  {
   "cell_type": "code",
   "execution_count": 6,
   "metadata": {
    "collapsed": false,
    "scrolled": false
   },
   "outputs": [],
   "source": [
    "######################\n",
    "#### DOING IMPUTATION\n",
    "######################\n",
    "\n",
    "# Double check that all ADP dropped\n",
    "drop_vals = ['A', 'D', 'P']\n",
    "print 'Number of A, D, P:', [np.sum(nsch_drop_adp_df.values == drop_vals[i]) for i in range(len(drop_vals))]\n",
    "\n",
    "## Create new matrix: drop ADP, coded LMN \n",
    "nsch_drop_adp_code_lmn_df = nsch_drop_adp_df\n",
    "\n",
    "### Categorical Columns\n",
    "cat_col_names_final= list(set(final_cols).intersection(cat_col_names))\n",
    "\n",
    "## Categorical: Replace L,N values with -2\n",
    "nsch_drop_adp_code_lmn_df[cat_col_names_final] = nsch_drop_adp_code_lmn_df[cat_col_names_final].replace(to_replace = ['L', 'N'], value = -2)\n",
    "\n",
    "## Categorical: Impute M with majority class\n",
    "# EXCEPT: for Poverty Level -> remove variable from list\n",
    "cat_col_impute = cat_col_names_final [:] # Copy list\n",
    "cat_col_impute.remove ('POVERTY_LEVELR') # Remove PovertyLevel from list of cols to impute\n",
    "print len (cat_col_impute) # should be 271\n",
    "\n",
    "# convert M to NaN in imputing columns\n",
    "nsch_drop_adp_code_lmn_df[cat_col_impute] = nsch_drop_adp_code_lmn_df[cat_col_impute].replace('M', np.nan)\n",
    "\n",
    "# Run preprocessing Imputer with Most Frequent Imputation\n",
    "imp_cat = Preprocessing.Imputer (missing_values ='NaN', strategy='most_frequent', axis=0)\n",
    "# Replace columns with imputed columns\n",
    "nsch_drop_adp_code_lmn_df[cat_col_impute] = imp_cat.fit_transform(nsch_drop_adp_code_lmn_df[cat_col_impute])\n",
    "\n",
    "categorical_col_final_det, cat_col_names_final_dt, coded_indicators_df_cat = get_indicator_chars (nsch_drop_adp_code_lmn_df[cat_col_names_final])\n",
    "\n",
    "print coded_indicators_df_cat\n",
    "len(coded_indicators_df_cat.index) # should be 272\n",
    "print 'Remaining M in POVERTY_LEVELR:', coded_indicators_df_cat.loc['POVERTY_LEVELR']['M']\n",
    "\n",
    "\n",
    "### Quantitative Columns\n",
    "quant_col_names_final = list(set(final_cols).difference(cat_col_names_final))\n",
    "\n",
    "## EXCEPT: for K9Q16R [Mother's Age] L -> convert these to M\n",
    "# Convert L in column K9Q16R to M\n",
    "nsch_drop_adp_code_lmn_df['K9Q16R'] = nsch_drop_adp_code_lmn_df['K9Q16R'].replace('L', 'M')\n",
    "\n",
    "## Quantitative: replace L, N values with 0\n",
    "nsch_drop_adp_code_lmn_df[quant_col_names_final] = nsch_drop_adp_code_lmn_df[quant_col_names_final].replace(to_replace = ['L', 'N'], value = 0)\n",
    "\n",
    "## Quantitative: Impute M with mean\n",
    "# convert M to NaN\n",
    "nsch_drop_adp_code_lmn_df[quant_col_names_final] = nsch_drop_adp_code_lmn_df[quant_col_names_final].replace('M', np.nan)\n",
    "imp_quant = Preprocessing.Imputer (missing_values ='NaN', strategy ='mean', axis=0)\n",
    "nsch_drop_adp_code_lmn_df[quant_col_names_final] = imp_cat.fit_transform(nsch_drop_adp_code_lmn_df[quant_col_names_final])\n",
    "\n",
    "\n",
    "categorical_col_final_det, cat_col_names_final_dt, coded_indicators_df_final = get_indicator_chars (nsch_drop_adp_code_lmn_df)\n",
    "\n",
    "print 'Coded Indicators All Columns:', coded_indicators_df_final\n",
    "print 'Num Remaining M All Columns:', np.sum(coded_indicators_df_final['M'])\n",
    " \n",
    "\n",
    "### Write Dataframes to CSV format\n",
    "\n",
    "print 'Final Shape of Dataset:', nsch_drop_adp_code_lmn_df.shape\n",
    "\n",
    "# nsch_drop_adp_code_lmn_df.to_csv ('NSCH_2007_droppedADP_codeLMN.csv')\n",
    "\n",
    "# Might be easier to handle if we code M as NaN\n",
    "\n",
    "nsch_drop_adp_code_lmn_df_na = nsch_drop_adp_code_lmn_df.replace ('M', np.nan)\n",
    "# nsch_drop_adp_code_lmn_df_na.to_csv ('NSCH_2007_droppedADP_codeLMN_na.csv')\n",
    "# print nsch_drop_adp_code_lmn_df_na.shape\n",
    "# print nsch_drop_adp_code_lmn_df_na ['POVERTY_LEVELR']\n",
    "\n",
    "colfin = nsch_drop_adp_code_lmn_df.columns\n",
    "cat_col_names_final_dt\n",
    "[np.sum(colfin == cat_col_names_final_dt[i]) for i in range(len(cat_col_names_final))]\n",
    "[np.sum(colfin == quant_col_names_final[i]) for i in range(len(quant_col_names_final))]\n",
    "\n",
    "set(cat_col_names_final_dt).difference(cat_col_names_final)\n",
    "\n",
    "# Add 'STATE' to Categorical column names (was encoded as Quantitative)\n",
    "cat_col_names_final.append ('STATE')\n",
    "\n",
    "categorical_column_names_ser = pd.Series (cat_col_names_final)\n",
    "# categorical_column_names_ser.to_csv ('Categorical_Column_Names_wState.csv')\n",
    " "
   ]
  },
  {
   "cell_type": "markdown",
   "metadata": {},
   "source": [
    "___\n",
    "## 2.8.Imputing Poverty Level##\n",
    "<p></p>\n",
    "<p><font size = \"3\">To assess imputation accuracy for different models, we used the subset of our data with complete Poverty Levels and used k-Fold Cross-Validation to get a cross-validation accuracy for each model. Then we trained the best model on the complete subset, and used it to predict poverty level for the subset with missing data. </p>\n",
    "\n",
    "The models evaluated were:\n",
    "- Baseline Model\n",
    "- Random Forest Imputation\n",
    "- Weighted Logistic Regression\n",
    "- Linear Discriminant Analysis\n",
    "- Quadratic Discriminant Analysis\n",
    "\n",
    "An alternative approach would have been to perform [multiple imputation](https://www.ncbi.nlm.nih.gov/pmc/articles/PMC3074241/), which produces multiple imputed datasets, allowing us to get confidence intervals on population estimates. We attempted this approach in R and Python and saw that the computation time exceeded 10 hours for our large dataset, so we decided to use single imputation models as described.</font>\n",
    "\n",
    "### NOTE: Imputation with different models was done on different computers, because each takes more than 1 hour to complete due to the size of the dataset! ###"
   ]
  },
  {
   "cell_type": "code",
   "execution_count": 7,
   "metadata": {
    "collapsed": false
   },
   "outputs": [],
   "source": [
    "# load the data set\n",
    "DF = pd.read_csv('NSCH_2007_droppedADP_codeLMN_na.csv')\n",
    "print DF.shape\n",
    "DF.head()\n",
    "# remove ID number and epilepsy related columns\n",
    "DF_for_impute = DF.drop(['Unnamed: 0','IDNUMR', 'K2Q42A', 'K2Q42B', 'K2Q42C'], axis = 1);\n",
    "\n",
    "## Encode categorical variables\n",
    "\n",
    "# read in categorical column names\n",
    "df_categorical_names = pd.read_csv('Categorical_Column_Names_wState.csv', header = None)\n",
    "\n",
    "print df_categorical_names.shape\n",
    "df_categorical_names.head()\n",
    "\n",
    "# the categorical columns in the dataset\n",
    "categorical_names = df_categorical_names.values[:,1]\n",
    "\n",
    "# remove epilepsy related names\n",
    "categorical_names = categorical_names[categorical_names != 'K2Q42A']\n",
    "categorical_names = categorical_names[categorical_names != 'K2Q42B']\n",
    "categorical_names = categorical_names[categorical_names != 'K2Q42C']\n",
    "# remove poverty level as well since it is our response variable\n",
    "categorical_names = categorical_names[categorical_names != 'POVERTY_LEVELR']\n",
    "\n",
    "# Apply one hot endcoing\n",
    "DF_for_impute_dummies = pd.get_dummies(DF_for_impute, columns = categorical_names)\n",
    "\n",
    "print \"Dimension of the dataset: \", DF_for_impute_dummies.shape\n",
    "DF_for_impute_dummies.head()\n",
    "\n",
    "## Split training, testing and validation sets\n",
    "# extract poverty columns\n",
    "poverty = DF_for_impute['POVERTY_LEVELR'].values\n",
    "# rows with missing values\n",
    "miss_index =np.isnan(poverty)\n",
    "\n",
    "print \"Number of missing values:\", np.sum(miss_index)\n",
    "## extract numpy arrays from the data\n",
    "# response is needed only for the complete set\n",
    "y_complete = DF_for_impute['POVERTY_LEVELR'].values[miss_index == False]\n",
    "\n",
    "# predictors\n",
    "DF_for_impute_dummies = DF_for_impute_dummies.drop(['POVERTY_LEVELR'], axis = 1);\n",
    "x = DF_for_impute_dummies.values\n",
    "\n",
    "x_complete = x[miss_index == False]\n",
    "x_missing = x[miss_index == True]\n",
    "\n",
    "print \"Dimenstion of x in the complete set: \", x_complete.shape\n",
    "print \"Dimenstion of x in the set missing poverty level: \", x_missing.shape\n",
    "\n",
    "## split the complete set into training, validation and testing sets\n",
    "# train the models on training set\n",
    "# use validation set to select parameters\n",
    "# use the accuracy on the test set to compare the final models\n",
    "\n",
    "n = x_complete.shape[0]\n",
    "perm = range(n)\n",
    "np.random.shuffle(perm)\n",
    "\n",
    "split_ratio_1 = 0.70 # use 75% as training set\n",
    "split_ratio_2 = 0.15 # use 15% as validation set\n",
    "split_num_1 = int(split_ratio_1 * n)\n",
    "split_num_2 = int((split_ratio_1 + split_ratio_2) * n)\n",
    "\n",
    "x_train = x_complete[perm[: split_num_1], :]\n",
    "x_validation = x_complete[perm[split_num_1: split_num_2], :]\n",
    "x_test = x_complete[perm[split_num_2: ], :]\n",
    "\n",
    "y_train = y_complete[perm[: split_num_1]]\n",
    "y_validation = y_complete[perm[split_num_1: split_num_2]]\n",
    "y_test = y_complete[perm[split_num_2: ]]\n",
    "\n",
    "print \"Dimension of predictors in training set: \", x_train.shape\n",
    "print \"Dimension of predictors in validation set: \", x_validation.shape\n",
    "print \"Dimension of predictors in testing set: \", x_test.shape"
   ]
  },
  {
   "cell_type": "markdown",
   "metadata": {},
   "source": [
    "<font size = \"4\"><b><li> Baseline Model (randomly assign classes)</li></b></font>\n",
    "\n",
    "<DD><font size = \"3\">The Baseline Model randomly assigns each child to one of 8 poverty levels, and thus had an accuracy of <b>12%</b>.</font>"
   ]
  },
  {
   "cell_type": "code",
   "execution_count": 12,
   "metadata": {
    "collapsed": false
   },
   "outputs": [],
   "source": [
    "# randomly assign each observation to classes\n",
    "y_baseline = np.zeros(len(y_test))\n",
    "classes = (np.unique(y_complete))\n",
    "\n",
    "for i in range(len(y_test)):\n",
    "    # randomly choose from the list\n",
    "    y_baseline[i] = np.random.choice(classes)\n",
    "    \n",
    "# accuracy rate\n",
    "# print 'Accuracy rate of baseline model is:', np.mean(y_baseline == y_test)"
   ]
  },
  {
   "cell_type": "markdown",
   "metadata": {},
   "source": [
    "<font size = \"4\"><b><li> Random Forest Imputation</li></b></font>\n",
    "\n",
    "<DD><font size = \"3\">We next evaluated the Random Forest model for imputation of Poverty Level. Random forests are an intuitive algorithm that can be trained to classify categorical variables. We tuned the maximum tree depth and the minimum node size, and used cross-validation to choose the best model. We identified the best model and ran it on the test set (missing values) to make predictions. <b>Random Forest ultimately had the highest cross-validated accuracy rate at 65%</b>.</font>\n"
   ]
  },
  {
   "cell_type": "code",
   "execution_count": 15,
   "metadata": {
    "collapsed": false
   },
   "outputs": [],
   "source": [
    "import sys\n",
    "\n",
    "# parameters to tune random forest\n",
    "max_depth_list = range(1, 21)\n",
    "min_leaf_list = range(1, 6)\n",
    "\n",
    "# prepare to display the progress\n",
    "total_iter = len(max_depth_list) * len(min_leaf_list)\n",
    "bar_length = 50\n",
    "i = 0\n",
    "\n",
    "# tune the tree\n",
    "best_score = 0\n",
    "best_depth = 0\n",
    "best_leaf_num = 0\n",
    "\n",
    "# evaluate using cross validation\n",
    "for depth in max_depth_list:\n",
    "    for leaf in min_leaf_list:\n",
    "        # fit the model\n",
    "        rf = RandomForest(n_estimators=100, max_depth= depth, min_samples_leaf= leaf)\n",
    "        rf.fit(x_train, y_train)\n",
    "        # accuracy\n",
    "        score = rf.score(x_validation, y_validation)\n",
    "\n",
    "        # update the best score and parameters\n",
    "        if score > best_score:\n",
    "            best_score = score\n",
    "            best_depth = depth\n",
    "            best_leaf_num = leaf\n",
    "            rf_best = rf\n",
    "        \n",
    "        # display the progress\n",
    "        percent = float(i) / total_iter\n",
    "        hashes = '#' * int(round(percent * bar_length))\n",
    "        spaces = ' ' * (bar_length - len(hashes))\n",
    "        sys.stdout.write(\"\\rProgress: [{0}] {1}%\".format(hashes + spaces, int(round(percent * 100))))\n",
    "        sys.stdout.flush()\n",
    "        i = i + 1\n",
    "        \n",
    "print \"\\nThe optimal depth is {}; the optimal minimum number of samples in each node is {}.\".format(\n",
    "    best_depth, best_leaf_num)  \n",
    "\n",
    "print \"The best testing accuracy is \", best_score"
   ]
  },
  {
   "cell_type": "code",
   "execution_count": 16,
   "metadata": {
    "collapsed": true
   },
   "outputs": [],
   "source": [
    "# # the best model (DETERMINED BY CROSS VALIDATION: TAKES A LONG TIME TO RUN SO WE JUST INPUT THE PARAMETERS HERE!!!)\n",
    "best_depth = 18\n",
    "best_leaf_num = 2\n",
    "rf_best = RandomForest(n_estimators=100, max_depth = best_depth, min_samples_leaf = best_leaf_num)\n",
    "rf_best.fit(x_train, y_train)\n",
    "\n",
    "score = rf_best.score(x_test, y_test)\n",
    "# print \"The testing accuracy of the final random forest model is \", score"
   ]
  },
  {
   "cell_type": "markdown",
   "metadata": {},
   "source": [
    "<font size = \"4\"><b><li> Weighted logistic regression</li></b></font>\n",
    "\n",
    "<DD><font size = \"3\">We also tried weighted logistic regression (with an L2 penalty) and tuned the regularization parameter. We achieved the highest accuracy rate with $C = 10^{-3}$, with an accuracy of **64.8%**, similar to the accuracy of the Random Forest. Because the Random Forest gave slightly higher accuracy, and because of its more intuitive interpretation, we decided to use the Random Forest to generate the final imputed data set.</font>"
   ]
  },
  {
   "cell_type": "code",
   "execution_count": null,
   "metadata": {
    "collapsed": true
   },
   "outputs": [],
   "source": [
    "max_pow_of_10 = 7\n",
    "min_pow_of_10 = -7\n",
    "num_params = max_pow_of_10 - min_pow_of_10 + 1\n",
    "\n",
    "cv_r_squared = []\n",
    "\n",
    "# Iterate over various parameter values\n",
    "for power_of_10 in range(min_pow_of_10, max_pow_of_10+1):\n",
    "        #standardize x_train and y_train\n",
    "    from time import gmtime, strftime\n",
    "    print strftime(\"%Y-%m-%d %H:%M:%S\", gmtime())\n",
    "    \n",
    "    std = Standardize(with_mean=False)\n",
    "    x_train_std = std.fit_transform(df_x)\n",
    "    x_test_std = test_x / std.scale_ \n",
    "    #print x_train_std\n",
    "    cv_r_squared.append(k_fold_r_squared(x_train_std, df_y_training, 5, 10**power_of_10))"
   ]
  },
  {
   "cell_type": "code",
   "execution_count": null,
   "metadata": {
    "collapsed": true
   },
   "outputs": [],
   "source": [
    "# Try logistic regression, with multi_class = 'ovr', first, with regularization parameters(-7 to 7)\n",
    "def k_fold_r_squared(x_train, y_train, num_folds, param_val):\n",
    "    n_train = x_train.shape[0]\n",
    "    n = int(np.round(n_train * 1. / num_folds)) # points per fold\n",
    "    \n",
    "\n",
    "    # Iterate over folds\n",
    "    cv_r_squared = 0\n",
    "    \n",
    "    for fold in range(1, num_folds + 1):\n",
    "        # Take k-1 folds for training \n",
    "        x_first_half = x_train[:n * (fold - 1), :]\n",
    "        x_second_half = x_train[n * fold + 1:, :]\n",
    "        x_train_cv = np.concatenate((x_first_half, x_second_half), axis=0)\n",
    "        \n",
    "        y_first_half = y_train[:n * (fold - 1)]\n",
    "        y_second_half = y_train[n * fold + 1:]\n",
    "        y_train_cv = np.concatenate((y_first_half, y_second_half), axis=0)\n",
    "        \n",
    "        # Take the middle fold for testing\n",
    "        x_test_cv = x_train[1 + n * (fold - 1):n * fold, :]\n",
    "        y_test_cv = y_train[1 + n * (fold - 1):n * fold]\n",
    "\n",
    "        # Fit ridge regression model with parameter value on CV train set, and evaluate CV test performance\n",
    "        reg = Log(penalty = 'l2', C = param_val)\n",
    "        reg.fit(x_train_cv, y_train_cv)\n",
    "        r_squared = reg.score(x_test_cv, y_test_cv)\n",
    "    \n",
    "        # Cummulative R^2 value across folds\n",
    "        cv_r_squared += r_squared\n",
    "\n",
    "    # Return average R^2 value across folds\n",
    "    return cv_r_squared * 1.0 / num_folds"
   ]
  },
  {
   "cell_type": "code",
   "execution_count": 8,
   "metadata": {
    "collapsed": false
   },
   "outputs": [],
   "source": [
    "print 'C = 10^-3 returns the best accuracy of weighted logistic regression: 0.648'"
   ]
  },
  {
   "cell_type": "markdown",
   "metadata": {},
   "source": [
    "<font size = \"4\"><b><li> Linear Discriminant Analysis</li></b></font>\n",
    "\n",
    "<DD><font size = \"3\">Using Linear Discriminant Analysis (LDA), our accuracy was around <b>60%</b>, which is lower than that of weighted logistic regression and Random Forest model.</font>"
   ]
  },
  {
   "cell_type": "code",
   "execution_count": null,
   "metadata": {
    "collapsed": true
   },
   "outputs": [],
   "source": [
    "def k_fold_r_squared_LDA(x_train, y_train, num_folds):\n",
    "    n_train = x_train.shape[0]\n",
    "    n = int(np.round(n_train * 1. / num_folds)) # points per fold\n",
    "    \n",
    "\n",
    "    # Iterate over folds\n",
    "    cv_r_squared = 0\n",
    "    \n",
    "    for fold in range(1, num_folds + 1):\n",
    "        # Take k-1 folds for training \n",
    "        x_first_half = x_train[:n * (fold - 1), :]\n",
    "        x_second_half = x_train[n * fold + 1:, :]\n",
    "        x_train_cv = np.concatenate((x_first_half, x_second_half), axis=0)\n",
    "        \n",
    "        y_first_half = y_train[:n * (fold - 1)]\n",
    "        y_second_half = y_train[n * fold + 1:]\n",
    "        y_train_cv = np.concatenate((y_first_half, y_second_half), axis=0)\n",
    "        \n",
    "        # Take the middle fold for testing\n",
    "        x_test_cv = x_train[1 + n * (fold - 1):n * fold, :]\n",
    "        y_test_cv = y_train[1 + n * (fold - 1):n * fold]\n",
    "\n",
    "        # Fit ridge regression model with parameter value on CV train set, and evaluate CV test performance\n",
    "        reg = LDA()\n",
    "        reg.fit(x_train_cv, y_train_cv)\n",
    "        r_squared = reg.score(x_test_cv, y_test_cv)\n",
    "    \n",
    "        # Cummulative R^2 value across folds\n",
    "        cv_r_squared += r_squared\n",
    "\n",
    "    # Return average R^2 value across folds\n",
    "    return cv_r_squared * 1.0 / num_folds"
   ]
  },
  {
   "cell_type": "code",
   "execution_count": null,
   "metadata": {
    "collapsed": true
   },
   "outputs": [],
   "source": [
    "df_x_array = np.array(df_x)\n",
    "cv_r_squared_lda = k_fold_r_squared_LDA(df_x_array, df_y_training, 5)\n",
    "print 'The testing accuracy of the final LDA model is:', cv_r_squared_lda"
   ]
  },
  {
   "cell_type": "markdown",
   "metadata": {},
   "source": [
    "<font size = \"4\"><b><li> Quadratic Discriminant Analysis (QDA)</li></b></font>\n",
    "\n",
    "<DD><font size = \"3\">The accuracy using Quadratic Discriminant Analysis (QDA) was only <b>20%</b>.</font>"
   ]
  },
  {
   "cell_type": "code",
   "execution_count": null,
   "metadata": {
    "collapsed": true
   },
   "outputs": [],
   "source": [
    "def k_fold_r_squared_QDA(x_train, y_train, num_folds):\n",
    "    n_train = x_train.shape[0]\n",
    "    n = int(np.round(n_train * 1. / num_folds)) # points per fold\n",
    "    \n",
    "\n",
    "    # Iterate over folds\n",
    "    cv_r_squared = 0\n",
    "    \n",
    "    for fold in range(1, num_folds + 1):\n",
    "        # Take k-1 folds for training \n",
    "        x_first_half = x_train[:n * (fold - 1), :]\n",
    "        x_second_half = x_train[n * fold + 1:, :]\n",
    "        x_train_cv = np.concatenate((x_first_half, x_second_half), axis=0)\n",
    "        \n",
    "        y_first_half = y_train[:n * (fold - 1)]\n",
    "        y_second_half = y_train[n * fold + 1:]\n",
    "        y_train_cv = np.concatenate((y_first_half, y_second_half), axis=0)\n",
    "        \n",
    "        # Take the middle fold for testing\n",
    "        x_test_cv = x_train[1 + n * (fold - 1):n * fold, :]\n",
    "        y_test_cv = y_train[1 + n * (fold - 1):n * fold]\n",
    "\n",
    "        # Fit ridge regression model with parameter value on CV train set, and evaluate CV test performance\n",
    "        reg = QDA()\n",
    "        reg.fit(x_train_cv, y_train_cv)\n",
    "        r_squared = reg.score(x_test_cv, y_test_cv)\n",
    "    \n",
    "        # Cummulative R^2 value across folds\n",
    "        cv_r_squared += r_squared\n",
    "\n",
    "    # Return average R^2 value across folds\n",
    "    return cv_r_squared * 1.0 / num_folds"
   ]
  },
  {
   "cell_type": "code",
   "execution_count": 3,
   "metadata": {
    "collapsed": true
   },
   "outputs": [],
   "source": [
    "# Try QDA\n",
    "cv_r_squared_qda = k_fold_r_squared_QDA(df_x_array, df_y_training, 5)\n",
    "print 'The testing accuracy of the final QDA model is:', cv_r_squared_qda"
   ]
  },
  {
   "cell_type": "markdown",
   "metadata": {},
   "source": [
    "### **Given the performance of the above models, we decided to use Random Forest to impute missing values in Poverty Level and generated our final imputed dataset, which was used in the analysis on the prediction of epilepsy diagnosis and quality of life!**\n",
    "\n",
    "___"
   ]
  },
  {
   "cell_type": "code",
   "execution_count": 9,
   "metadata": {
    "collapsed": false
   },
   "outputs": [
    {
     "data": {
      "text/html": [
       "<a href=\"https://jy2014.github.io/EpilepsyPrediction/data_source.html\" target=\"_self\">Chapter 1. Data Source</a>"
      ],
      "text/plain": [
       "<IPython.core.display.HTML object>"
      ]
     },
     "metadata": {},
     "output_type": "display_data"
    }
   ],
   "source": [
    "%%html\n",
    "<a href=\"https://jy2014.github.io/EpilepsyPrediction/data_source.html\" target=\"_self\">Chapter 1. Data Source</a>"
   ]
  },
  {
   "cell_type": "code",
   "execution_count": 10,
   "metadata": {
    "collapsed": false
   },
   "outputs": [
    {
     "data": {
      "text/html": [
       "<a href=\"https://jy2014.github.io/EpilepsyPrediction/Diagnosis.html\" target=\"_self\">Chapter 3. Predicting Epilepsy Status</a>"
      ],
      "text/plain": [
       "<IPython.core.display.HTML object>"
      ]
     },
     "metadata": {},
     "output_type": "display_data"
    }
   ],
   "source": [
    "%%html\n",
    "<a href=\"https://jy2014.github.io/EpilepsyPrediction/Diagnosis.html\" target=\"_self\">Chapter 3. Predicting Epilepsy Status</a>"
   ]
  },
  {
   "cell_type": "code",
   "execution_count": 11,
   "metadata": {
    "collapsed": false
   },
   "outputs": [
    {
     "data": {
      "text/html": [
       "<a href=\"https://jy2014.github.io/EpilepsyPrediction/Home.html\" target=\"_self\">Back to the Home Page</a>"
      ],
      "text/plain": [
       "<IPython.core.display.HTML object>"
      ]
     },
     "metadata": {},
     "output_type": "display_data"
    }
   ],
   "source": [
    "%%html\n",
    "<a href=\"https://jy2014.github.io/EpilepsyPrediction/Home.html\" target=\"_self\">Back to the Home Page</a>"
   ]
  },
  {
   "cell_type": "code",
   "execution_count": 4,
   "metadata": {
    "collapsed": true
   },
   "outputs": [],
   "source": [
    "# Random forest\n",
    "rf_best.fit(x_complete, y_complete)\n",
    "y_pred =rf_best.predict(x_missing)\n",
    "\n",
    "DF['POVERTY_LEVELR'].iloc[miss_index] = y_pred\n",
    "\n",
    "# DF.to_csv(\"imputed_PovertyLevel_RF.csv\", sep = ',')"
   ]
  }
 ],
 "metadata": {
  "anaconda-cloud": {},
  "kernelspec": {
   "display_name": "Python [Root]",
   "language": "python",
   "name": "Python [Root]"
  },
  "language_info": {
   "codemirror_mode": {
    "name": "ipython",
    "version": 2
   },
   "file_extension": ".py",
   "mimetype": "text/x-python",
   "name": "python",
   "nbconvert_exporter": "python",
   "pygments_lexer": "ipython2",
   "version": "2.7.12"
  }
 },
 "nbformat": 4,
 "nbformat_minor": 0
}
