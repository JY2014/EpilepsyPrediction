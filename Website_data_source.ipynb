{
 "cells": [
  {
   "cell_type": "code",
   "execution_count": 1,
   "metadata": {
    "collapsed": false
   },
   "outputs": [
    {
     "data": {
      "text/html": [
       "<script>\n",
       "code_show=true;\n",
       "function code_toggle() {\n",
       " if (code_show){\n",
       " $('div.input').hide();\n",
       " } else {\n",
       " $('div.input').show();\n",
       " }\n",
       " code_show = !code_show\n",
       "}\n",
       "$( document ).ready(code_toggle);\n",
       "</script>\n",
       "<form action=\"javascript:code_toggle()\"><input type=\"submit\" value=\"Click here to toggle on/off the raw code.\"></form>"
      ],
      "text/plain": [
       "<IPython.core.display.HTML object>"
      ]
     },
     "execution_count": 1,
     "metadata": {},
     "output_type": "execute_result"
    }
   ],
   "source": [
    "from IPython.display import HTML\n",
    "\n",
    "HTML('''<script>\n",
    "code_show=true;\n",
    "function code_toggle() {\n",
    " if (code_show){\n",
    " $('div.input').hide();\n",
    " } else {\n",
    " $('div.input').show();\n",
    " }\n",
    " code_show = !code_show\n",
    "}\n",
    "$( document ).ready(code_toggle);\n",
    "</script>\n",
    "<form action=\"javascript:code_toggle()\"><input type=\"submit\" value=\"Click here to toggle on/off the raw code.\"></form>''')"
   ]
  },
  {
   "cell_type": "code",
   "execution_count": 2,
   "metadata": {
    "collapsed": false,
    "scrolled": true
   },
   "outputs": [
    {
     "data": {
      "text/html": [
       "\n",
       "<a href=\"https://jy2014.github.io/EpilepsyPrediction/Home.html\" target=\"_self\">Back to the Home Page</a>"
      ],
      "text/plain": [
       "<IPython.core.display.HTML object>"
      ]
     },
     "metadata": {},
     "output_type": "display_data"
    }
   ],
   "source": [
    "%%html\n",
    "\n",
    "<a href=\"https://jy2014.github.io/EpilepsyPrediction/Home.html\" target=\"_self\">Back to the Home Page</a>"
   ]
  },
  {
   "cell_type": "markdown",
   "metadata": {},
   "source": [
    "<style>\n",
    "p {\n",
    "  margin-top: 0em;\n",
    "  margin-bottom: 2em;\n",
    "}\n",
    "</style>"
   ]
  },
  {
   "cell_type": "markdown",
   "metadata": {},
   "source": [
    "# Chapter 1. Data Source #\n",
    "_________\n",
    "<h2><center>National Survey of Childern's Health (2007)</center></h2>\n",
    "\n",
    "<font size=\"3\"><a href=\"http://www.childhealthdata.org/learn/NSCH\">The National Survey of Children’s Health (NSCH)</a> was conducted three times between 2003 and 2012 by the National Center for Health Statistics at the United States Center for Disease Control (CDC). The NSCH is a telephone-based survey that addresses multiple aspects of children's lives, including physical and mental health, access to quality health care, and family and social context. </font>\n",
    "\n",
    "<p><font size=\"3\">We utilized the 2007 survey to predict (1) epilepsy status and (2) quality of life in children with epilepsy. The survey includes 91605 children total, and 977 with a history of epilepsy.</font></p>\n",
    "\n",
    "\n",
    "<font size = \"3\">\n",
    "- [1.1. Survey Methodology](#1.1.Survey-Methodology)\n",
    "- [1.2. Type of Questions](#1.2.Type-of-Questions)\n",
    "- [1.3. Respondents with Epilepsy](#1.3.Respondents-with-epilepsy)\n",
    "_______"
   ]
  },
  {
   "cell_type": "code",
   "execution_count": 3,
   "metadata": {
    "collapsed": false
   },
   "outputs": [],
   "source": [
    "import numpy as np\n",
    "import matplotlib\n",
    "import pandas as pd\n",
    "from sklearn import linear_model\n",
    "from sklearn.feature_extraction.text import CountVectorizer\n",
    "from sklearn.neighbors import KNeighborsClassifier as KNN\n",
    "from sklearn.decomposition import PCA\n",
    "import matplotlib.pyplot as plt\n",
    "from mpl_toolkits.mplot3d import Axes3D\n",
    "from matplotlib.colors import ListedColormap\n",
    "from sklearn.linear_model import LogisticRegression as LogReg\n",
    "from sklearn.preprocessing import StandardScaler as Standardize\n",
    "from sklearn.cross_validation import KFold\n",
    "from scipy import stats\n",
    "from matplotlib import cm\n",
    "from matplotlib import gridspec\n",
    "from IPython.display import Image\n",
    "%matplotlib inline\n",
    "import warnings\n",
    "warnings.filterwarnings('ignore')"
   ]
  },
  {
   "cell_type": "markdown",
   "metadata": {},
   "source": [
    "## 1.1.Survey Methodology ##\n",
    "<font size=\"3\"> To select respondents for the NSCH, a random-digit-dialed sample of households with children under age 18 years was selected from each of the 50 states and the District of Columbia. One child was randomly selected from all children in each identified household to be the subject of the survey. The respondent was a parent or guardian who knew about the child's health and health care.\n",
    "\n",
    "\n",
    "_____"
   ]
  },
  {
   "cell_type": "markdown",
   "metadata": {},
   "source": [
    "## 1.2.Type of Questions ##\n",
    "<font size=\"3\"> This survey was designed to produce national and state-specific prevalence estimates for a variety of physical, emotional, and behavioral health indicators and measures of children's experiences with the health care system. The survey also includes questions about the family (for example: parents' health status, stress and lifestyle, family activities) and about respondents' perceptions of the neighborhoods where their children live.\n",
    "\n",
    "\n",
    "____"
   ]
  },
  {
   "cell_type": "markdown",
   "metadata": {},
   "source": [
    "## 1.3. Respondents with Epilepsy ##\n",
    "<font size=\"3\">Among these children, 977 have had epilepsy and 562 currently have it, corresponding to a 1.1% lifetime incidence of epilepsy [<b>Figure 1 Left</b>]. The severity of epilepsy was assessed in children currently with epilepsy on a scale of mild, moderate, and severe. Of 526 children with current epilepsy, the majority (59.3%) described their epilepsy as mild, (23.6%) moderate, and (14.6%) severe [<b>Figure 1 Right</b>]. In the survey, epilepsy equally affects male and female children, with higher incidence in older children [<b>Figure 2</b>], which is consistent with cumulative lifetime risk</font>.\n",
    "\n",
    "____"
   ]
  },
  {
   "cell_type": "markdown",
   "metadata": {},
   "source": [
    "<font size=\"4\"><b> Figure 1. Epilepsy prevalance and severity in NSCH 2007.</b></font>\n",
    "<p></p>\n",
    "<font size=\"3\">The survey data is consistent with about 1% prevalence of epilepsy, which indicates a <b> significant class imbalance in the dataset </b>. The severity of current epilepsy is shown on the right.</font>\n",
    "<p></p>\n",
    "<img src=\"https://cloud.githubusercontent.com/assets/9686980/21193004/a39d6f0c-c1f8-11e6-901e-22112c5f6b68.JPG\" alt = \"pie chart to show epilepsy prevalance and sererity\" width = 700/>"
   ]
  },
  {
   "cell_type": "code",
   "execution_count": null,
   "metadata": {
    "collapsed": true
   },
   "outputs": [],
   "source": [
    "# read the data\n",
    "data = pd.read_csv(\"NSCH_2007.csv\")\n",
    "\n",
    "# split into epilepsy and non-epilepsy dataframes\n",
    "epilepsy = data[data['K2Q42A'] == 1]\n",
    "non_epilepsy = data[data['K2Q42A'] == 0]\n",
    "\n",
    "# pie chart on the population\n",
    "count = [epilepsy.shape[0], non_epilepsy.shape[0]]\n",
    "count = np.asarray(count)\n",
    "percent =count*100/float(count[0]+count[1])\n",
    "\n",
    "label = [\"Epilepsy: {} ({}%)\".format(count[0], round(percent[0],2)), \"Non-epilepsy: {} ({}%)\".format(count[1], round(percent[1],2))]\n",
    "\n",
    "fig = plt.figure(figsize = (15, 7))\n",
    "ax1 = fig.add_subplot(121)\n",
    "ax1.pie (count, labels = label, colors=['red','gold'], startangle=45)\n",
    "ax1.set_title('Epilepsy vs non-epilepsy')\n",
    "\n",
    "\n",
    "#### PIE CHARTS OF GENERAL PATIENT DEMOGRAPHICS\n",
    "# Epilepsy Status: Excluding people who don't know\n",
    "# Focus on people with Epilepsy (EVER)\n",
    "\n",
    "def get_counts_frac (data, var_label, var_levels):\n",
    "    counts = [np.sum(data[var_label] == i) for i in var_levels ]\n",
    "    frac = np.array(counts)/ float(np.sum(counts))\n",
    "    return counts, frac\n",
    "\n",
    "epilepsy_levels = [0, 1, 6, 7] # 0 (no), 1 (yes), 6 (IDK), 7(No response)\n",
    "epilepsy_names = ['Non-Epilepsy', 'Epilepsy', 'Don\\'t know', 'No response']\n",
    "\n",
    "matplotlib.rcParams['font.size'] = 16\n",
    "epilepsy_status_counts, epilepsy_status_fracs = get_counts_frac (data, 'K2Q42A', epilepsy_levels)\n",
    "ax2 = fig.add_subplot(122)\n",
    "plt.pie(epilepsy_status_fracs[:2] , labels = epilepsy_names[:2], colors = ['deepskyblue', 'red'],\n",
    "                autopct='%1.1f%%', shadow=False, startangle=75)\n",
    "plt.title('Epilepsy Status', fontsize = 18)\n",
    "\n",
    "plt.tight_layout()\n",
    "plt.show()\n",
    "\n",
    "# polish the figure and reload from jpg"
   ]
  },
  {
   "cell_type": "markdown",
   "metadata": {},
   "source": [
    "<p></p>\n",
    "<font size=\"4\"><b> Figure 2. Age and gender distribution of children with epilepsy history.</b></font>\n",
    "<p></p>\n",
    "<font size=\"3\">The gender ratio is the same in children ever diagnosed with epilepsy and other children, with a male-to-female ratio of 52:48. The number of children who have ever been diagnosed with seizures or epilepsy increases as the age grows, as the number in this category is the cumulative. There is no obvious interaction between age and gender in the two groups. </font>\n",
    "<p></p>\n",
    "<img src = \"https://cloud.githubusercontent.com/assets/9686980/21193009/a6cad9ee-c1f8-11e6-8c4b-b3acb2c92a0f.JPG\" alt=\"bar chart to show age and gender distribution\" width = 700/>"
   ]
  },
  {
   "cell_type": "code",
   "execution_count": 31,
   "metadata": {
    "collapsed": false
   },
   "outputs": [],
   "source": [
    "# plot age-gender in both epilepsy and non-epilepsy groups\n",
    "# separate gender \n",
    "epilepsy_F = epilepsy[epilepsy['SEX'] == 2]\n",
    "epilepsy_M = epilepsy[epilepsy['SEX'] == 1]\n",
    "non_epilepsy_F = non_epilepsy[non_epilepsy['SEX'] == 2]\n",
    "non_epilepsy_M = non_epilepsy[non_epilepsy['SEX'] == 1]\n",
    "\n",
    "# percentage of genders in both groups\n",
    "Female_percent_epi = epilepsy_F.shape[0]/float(epilepsy.shape[0])\n",
    "Female_percent_non = non_epilepsy_F.shape[0]/float(non_epilepsy.shape[0])\n",
    "\n",
    "count_epi = [Female_percent_epi, 1-Female_percent_epi]\n",
    "count_non = [Female_percent_non, 1-Female_percent_non]\n",
    "\n",
    "\n",
    "# get how many age years are covered\n",
    "ages = data['AGEYR_CHILD'].unique()\n",
    "ages = np.sort(ages)\n",
    "\n",
    "# count for the epilepsy group\n",
    "age_count_epilepsy =[]\n",
    "\n",
    "for age in ages:\n",
    "    c_F = sum(epilepsy_F['AGEYR_CHILD']== age)\n",
    "    c_M = sum(epilepsy_M['AGEYR_CHILD']== age)\n",
    "    age_count_epilepsy.append([c_F, c_M])\n",
    "    \n",
    "age_count_epilepsy = np.asarray(age_count_epilepsy)\n",
    "\n",
    "# count for the non-epilepsy group\n",
    "age_count_non = []\n",
    "\n",
    "for age in ages:\n",
    "    c_F = sum(non_epilepsy_F['AGEYR_CHILD']== age)\n",
    "    c_M = sum(non_epilepsy_M['AGEYR_CHILD']== age)\n",
    "    age_count_non.append([c_F, c_M])\n",
    "    \n",
    "age_count_non = np.asarray(age_count_non)\n",
    "\n",
    "\n",
    "# generate the stacked bar plot\n",
    "fig = plt.figure(figsize = (15, 10))\n",
    "matplotlib.rcParams['font.size'] = 14\n",
    "\n",
    "# create the locations of the bars\n",
    "num_bar = len(ages)\n",
    "bar = [i*1 for i in range(num_bar)] \n",
    "bar_width = 0.8\n",
    "# labels\n",
    "label = ['Female', 'Male']\n",
    "color = ['salmon', 'steelblue']\n",
    "\n",
    "gs = gridspec.GridSpec(2, 2, width_ratios=[1, 2]) \n",
    "\n",
    "# for epilepsy group\n",
    "ax1 = fig.add_subplot(gs[1])\n",
    "\n",
    "Bottom = np.zeros(num_bar)\n",
    "for i  in range(2):\n",
    "    ax1.bar(bar, age_count_epilepsy[:,i], width=bar_width, label=label[i], bottom = Bottom, color=color[i])\n",
    "    Bottom = np.add(Bottom, age_count_epilepsy[:,i])\n",
    "    \n",
    "tickers = [i+(bar_width) for i in bar] \n",
    "plt.xticks(tickers, ages)\n",
    "plt.legend(loc='upper left', fontsize = 16)\n",
    "\n",
    "ax1.set_title(\"Age and Gender in Epilepsy Respondents\", fontsize = 18)\n",
    "ax1.set_xlabel(\"Age (year)\", fontsize = 16)\n",
    "ax1.set_ylabel(\"Population\", fontsize = 16)\n",
    "\n",
    "# for non-epilepsy group\n",
    "ax2 = fig.add_subplot(gs[3])\n",
    "Bottom = np.zeros(num_bar)\n",
    "for i  in range(2):\n",
    "    ax2.bar(bar, age_count_non[:,i], width=bar_width, label=label[i], bottom = Bottom, color=color[i])\n",
    "    Bottom = np.add(Bottom, age_count_non[:,i])\n",
    "    \n",
    "tickers = [i+(bar_width) for i in bar] \n",
    "plt.xticks(tickers, ages)\n",
    "plt.legend(loc='upper left', fontsize = 16)\n",
    "\n",
    "ax2.set_title(\"Age and Gender in Non-Epilepsy Respondents\", fontsize = 18)\n",
    "ax2.set_xlabel(\"Age (year)\", fontsize = 16)\n",
    "ax2.set_ylabel(\"Population\", fontsize = 16)\n",
    "\n",
    "\n",
    "# pie charts of the gender ratio in both groups\n",
    "ax3 = fig.add_subplot(gs[0])\n",
    "ax3.pie (count_epi, labels = label, colors=['salmon','steelblue'], startangle=45, autopct='%1.1f%%')\n",
    "ax3.set_title('Male vs Female in Epilepsy Respondents', fontsize = 18)\n",
    "\n",
    "ax4 = fig.add_subplot(gs[2])\n",
    "ax4.pie (count_non, labels = label, colors=['salmon','steelblue'], startangle=45, autopct='%1.1f%%')\n",
    "ax4.set_title('Male vs Female in Non-Epilepsy Respondents', fontsize = 18)\n",
    "\n",
    "plt.tight_layout()\n",
    "plt.show()\n",
    "\n",
    "# polish the figure and reload from jpg"
   ]
  },
  {
   "cell_type": "markdown",
   "metadata": {},
   "source": [
    "___\n",
    "## Conclusions & Data Challenges\n",
    "\n",
    "<font size=\"3\"> Given the NSCH dataset from 2007, we identified variables that assess epilepsy status and severity, quality of life, other health conditions, and social factors. We note several characteristics of our dataset: first, there is a large **class imbalance** with respect to epilepsy status, and second, our dataset may display **multicollineraity**. Multicollinearity is a common problem in health data sets, because health conditions are highly correlated (for example, a single disease may have multiple comorbid diseases) and because of the large number of variables. These challenges informed how we designed classifiers to address our questions. \n",
    "\n",
    "\n",
    "Our next step was to **clean the data and impute missing values**. "
   ]
  },
  {
   "cell_type": "markdown",
   "metadata": {},
   "source": [
    "_______________________"
   ]
  },
  {
   "cell_type": "code",
   "execution_count": 3,
   "metadata": {
    "collapsed": false
   },
   "outputs": [
    {
     "data": {
      "text/html": [
       "<a href=\"https://jy2014.github.io/EpilepsyPrediction/Imputation.html\" target=\"_self\">Chapter 2. Data Imputation</a>"
      ],
      "text/plain": [
       "<IPython.core.display.HTML object>"
      ]
     },
     "metadata": {},
     "output_type": "display_data"
    }
   ],
   "source": [
    "%%html\n",
    "<a href=\"https://jy2014.github.io/EpilepsyPrediction/Imputation.html\" target=\"_self\">Chapter 2. Data Imputation</a>"
   ]
  },
  {
   "cell_type": "code",
   "execution_count": 5,
   "metadata": {
    "collapsed": false
   },
   "outputs": [
    {
     "data": {
      "text/html": [
       "<a href=\"https://jy2014.github.io/EpilepsyPrediction/Home.html\" target=\"_self\">Back to the Home Page</a>"
      ],
      "text/plain": [
       "<IPython.core.display.HTML object>"
      ]
     },
     "metadata": {},
     "output_type": "display_data"
    }
   ],
   "source": [
    "%%html\n",
    "<a href=\"https://jy2014.github.io/EpilepsyPrediction/Home.html\" target=\"_self\">Back to the Home Page</a>"
   ]
  },
  {
   "cell_type": "code",
   "execution_count": null,
   "metadata": {
    "collapsed": true
   },
   "outputs": [],
   "source": []
  }
 ],
 "metadata": {
  "anaconda-cloud": {},
  "kernelspec": {
   "display_name": "Python [Root]",
   "language": "python",
   "name": "Python [Root]"
  },
  "language_info": {
   "codemirror_mode": {
    "name": "ipython",
    "version": 2
   },
   "file_extension": ".py",
   "mimetype": "text/x-python",
   "name": "python",
   "nbconvert_exporter": "python",
   "pygments_lexer": "ipython2",
   "version": "2.7.12"
  }
 },
 "nbformat": 4,
 "nbformat_minor": 0
}
