{
 "cells": [
  {
   "cell_type": "code",
   "execution_count": 1,
   "metadata": {
    "collapsed": false
   },
   "outputs": [
    {
     "data": {
      "text/html": [
       "<script>\n",
       "code_show=true;\n",
       "function code_toggle() {\n",
       " if (code_show){\n",
       " $('div.input').hide();\n",
       " } else {\n",
       " $('div.input').show();\n",
       " }\n",
       " code_show = !code_show\n",
       "}\n",
       "$( document ).ready(code_toggle);\n",
       "</script>\n",
       "<form action=\"javascript:code_toggle()\"><input type=\"submit\" value=\"Click here to toggle on/off the raw code.\"></form>"
      ],
      "text/plain": [
       "<IPython.core.display.HTML object>"
      ]
     },
     "execution_count": 1,
     "metadata": {},
     "output_type": "execute_result"
    }
   ],
   "source": [
    "from IPython.display import HTML\n",
    "\n",
    "HTML('''<script>\n",
    "code_show=true;\n",
    "function code_toggle() {\n",
    " if (code_show){\n",
    " $('div.input').hide();\n",
    " } else {\n",
    " $('div.input').show();\n",
    " }\n",
    " code_show = !code_show\n",
    "}\n",
    "$( document ).ready(code_toggle);\n",
    "</script>\n",
    "<form action=\"javascript:code_toggle()\"><input type=\"submit\" value=\"Click here to toggle on/off the raw code.\"></form>''')"
   ]
  },
  {
   "cell_type": "code",
   "execution_count": 2,
   "metadata": {
    "collapsed": false
   },
   "outputs": [
    {
     "data": {
      "text/html": [
       "\n",
       "<a href=\"https://jy2014.github.io/EpilepsyPrediction/Home.html\" target=\"_self\">Back to the Home Page</a>"
      ],
      "text/plain": [
       "<IPython.core.display.HTML object>"
      ]
     },
     "metadata": {},
     "output_type": "display_data"
    }
   ],
   "source": [
    "%%html\n",
    "\n",
    "<a href=\"https://jy2014.github.io/EpilepsyPrediction/Home.html\" target=\"_self\">Back to the Home Page</a>"
   ]
  },
  {
   "cell_type": "markdown",
   "metadata": {},
   "source": [
    "# Chapter 4. Predicting Quality of life on Children with Epilepsy History #\n",
    "\n",
    "_________________________\n",
    "<font size = \"3\"> Our second goal is to predict qualify of life for children with history of epilepsy, which might be better answered by data from the National Survey of Children's Health. Because epilepsy is known to cause developmental, social, and cognitive deficits, as well as contribute to injuries, children with epilepsy may have a diminished ability to participate in the same activities as healthy children. Predicting quality of life for children based on demographic, health, and healthcare-related indicators may allow government programs to target children at risk of poor quality of life with social programs and assistance.</font>"
   ]
  },
  {
   "cell_type": "markdown",
   "metadata": {},
   "source": [
    "<font size = \"3\">\n",
    "- [4.1. Construct Response Variable](#4.1.Construct-Response-Variable)\n",
    "- [4.2. Select Predictor Variables](#4.2.Select-Predictor-Variables)\n",
    "- [4.3. Model Selection](#4.3.Model-Selection)\n",
    "- [4.4. Model Comparison](#4.4.Model-Comparison)\n",
    "- [4.5. Feature Importance and Multicollinearity](#4.5.Feature-Importance-and-Multicollinearity)\n",
    "- [4.6. Principal Component Analysis](#4.6.Principal-Component-Analysis)\n",
    "- [4.7. Multiclass Classification](#4.7.Multiclass-Classification)\n",
    "___"
   ]
  },
  {
   "cell_type": "markdown",
   "metadata": {},
   "source": [
    "<b><i> please click the button on top of the page to view the code </i></b>"
   ]
  },
  {
   "cell_type": "code",
   "execution_count": 1,
   "metadata": {
    "collapsed": true
   },
   "outputs": [],
   "source": [
    "import numpy as np\n",
    "import pandas as pd\n",
    "from sklearn.tree import DecisionTreeClassifier\n",
    "import sklearn.preprocessing as Preprocessing\n",
    "from sklearn.preprocessing import StandardScaler as Standardize\n",
    "from sklearn import metrics\n",
    "from sklearn import ensemble\n",
    "import itertools as it\n",
    "import matplotlib\n",
    "import matplotlib.pyplot as plt\n",
    "import matplotlib.cm as cmx\n",
    "import matplotlib.colors as colors\n",
    "import scipy as sp\n",
    "from itertools import combinations\n",
    "from sklearn.linear_model import LogisticRegression as Log\n",
    "from sklearn.discriminant_analysis import LinearDiscriminantAnalysis as LDA\n",
    "from sklearn.discriminant_analysis import QuadraticDiscriminantAnalysis as QDA\n",
    "from sklearn.ensemble import RandomForestClassifier as RandomForest\n",
    "from sklearn.svm import SVC as SVC\n",
    "from sklearn.preprocessing import OneHotEncoder\n",
    "from sklearn.decomposition import PCA as PCA\n",
    "from sklearn.model_selection import GridSearchCV\n",
    "from sklearn.model_selection import StratifiedKFold\n",
    "from sklearn.model_selection import cross_val_predict\n",
    "from sklearn.model_selection import train_test_split\n",
    "from sklearn.preprocessing import LabelEncoder\n",
    "import statsmodels.stats.outliers_influence as sm\n",
    "%matplotlib inline\n",
    "from IPython.display import Image\n",
    "import warnings\n",
    "warnings.filterwarnings('ignore')"
   ]
  },
  {
   "cell_type": "code",
   "execution_count": 2,
   "metadata": {
    "collapsed": false
   },
   "outputs": [],
   "source": [
    "#### Extract data with Yes/No answers in the epilepsy question\n",
    "# Import CSV of categorical columns +  Get list\n",
    "df_cat = pd.read_csv ('Categorical_Column_Names_wState.csv', header = None)\n",
    "cat = np.array (df_cat.iloc[:, 1])\n",
    "\n",
    "# FUNCTION: one hot encodes categorical features. AFTER REMOVING epilepsy columns\n",
    "# INPUTS:\n",
    "#   categorical_names: list of categorical features\n",
    "#   df_X; dataframe to encode\n",
    "#   name: name of final file\n",
    "\n",
    "def one_hot_encode_categorical(categorical_names, df_X, name):\n",
    "    # Apply one-hot encoder to categorical columns in the dataset\n",
    "    \n",
    "    # remove epilepsy related columns\n",
    "    categorical_names = categorical_names[categorical_names != 'K2Q42A']\n",
    "    categorical_names = categorical_names[categorical_names != 'K2Q42B']\n",
    "    categorical_names = categorical_names[categorical_names != 'K2Q42C']\n",
    "\n",
    "    # Apply one hot endcoing\n",
    "    df_X_dummies = pd.get_dummies (df_X, columns = categorical_names)\n",
    "    \n",
    "    #print \"Dimension of the dataset: \", df_X_dummies.shape\n",
    "    df_X_dummies.head()\n",
    "        \n",
    "    # Save dummy encoded X as CSV\n",
    "    df_X_dummies.to_csv (name, index=False)\n",
    "\n",
    "    return df_X_dummies\n",
    "    \n",
    "##### LOADING THE OTHER DATASETS\n",
    "#   df_final: Poverty Level imputed dataset via Random Forest, contains 291 features\n",
    "\n",
    "### Read dataset with imputed values (Random_Forest)\n",
    "df_final = pd.read_csv ('imputed_PovertyLevel_RF.csv')\n",
    "#df_final.shape\n",
    "\n",
    "# Drop the first two columns as well as ID number (irrelevant)\n",
    "df_final = df_final.drop(df_final.columns[[0, 1, 2]], axis=1)\n",
    "#df_final.head()\n",
    "\n",
    "#   df_y: indicates whether each person has ever had epilepsy\n",
    "df_y = df_final['K2Q42A'].astype(int)\n",
    "#df_y.unique()\n",
    "\n",
    "### Identify non-respondents: create list of rows to drop\n",
    "rows_to_drop_nonresponse = np.concatenate((np.where(df_y == 6)[0], np.where(df_y == 7)[0]))\n",
    "df_y.iloc[rows_to_drop_nonresponse]\n",
    "\n",
    "# Drop nonrespondents from y\n",
    "df_y_drop = df_y.drop(rows_to_drop_nonresponse)\n",
    "\n",
    "# Drop epilepsy-related columns\n",
    "#   df_x: features other than epilepsy\n",
    "df_x = df_final.drop(['K2Q42A','K2Q42B','K2Q42C'], 1)\n",
    "\n",
    "# df_x_drop: drops rows where people did not respond about epilepsy status\n",
    "df_x_drop = df_x.drop(rows_to_drop_nonresponse)\n",
    "\n",
    "# ONE HOT ENCODE categorical columns (cat) of df_x_drop to make df_x_dummies; SAVE as CSV\n",
    "#   df_x_dummies: one hot encoded non-epilepsy features\n",
    "df_x_dummies = one_hot_encode_categorical (cat, df_x_drop, 'X_epilepsy_01_onehot.csv')"
   ]
  },
  {
   "cell_type": "markdown",
   "metadata": {},
   "source": [
    "\n",
    "___\n",
    "## 4.1.Construct Response Variable##\n",
    "\n",
    "<font size = \"3\">First, we constructed a composite metric of quality of life in children based on questions in our dataset. We selected the following questions and <b>summed together the number of YES responses for each child</b>.\n",
    "\n",
    "<i>\n",
    "Do [Child]’s health conditions interfere with [his/her] ability to:\n",
    "<ul>\n",
    "    <li> Play with other children?</li>\n",
    "    <li> Go on outings such as to the park or family gatherings?</li>\n",
    "    <li> Make friends?</li>\n",
    "    <li> Attend school on a regular basis?</li>\n",
    "    <li>Participate in sports, clubs, or other organized activities?</li>\n",
    "</ul></i>\n",
    "    \n",
    "<p></p>\n",
    "<p>A large number of YES responses indicates a diminished ability to participate in age-appropriate social and physical activities, and may serve as a proxy for quality of life. Then, we plotted the <b>distribution of this response variable within epilepsy children</b>. We noticed that approximately half of epilepsy children had zero YES answers, with the other half of the population distributed among 1, 2, and 3 YES answers. Given this distribution, we first sought to <b>perform binary classify children with 0 vs. 1 or more YES answers</b>. Later, we performed <b>multiclass classification</b>.</p>"
   ]
  },
  {
   "cell_type": "code",
   "execution_count": 5,
   "metadata": {
    "collapsed": false
   },
   "outputs": [
    {
     "data": {
      "image/png": "[encoded data removed]",
      "text/plain": [
       "<matplotlib.figure.Figure at 0x115fed3d0>"
      ]
     },
     "metadata": {},
     "output_type": "display_data"
    }
   ],
   "source": [
    "##### QUALITY OF LIFE DATASETS:\n",
    "# Of people who have ever had epilepsy, assess quality of life by taking sum over QOL measures\n",
    "\n",
    "### Create dataframe from df_x_drop with ONLY people who have EVER had epilepsy\n",
    "df_epi = df_x_drop [df_y == 1]\n",
    "#print df_epi.shape\n",
    "\n",
    "### Extract Quality of Life Indicators\n",
    "quality_of_life = df_epi[['K2Q60A', 'K2Q60B', 'K2Q60C', 'K2Q61A', 'K2Q61B', 'K2Q61C']]\n",
    "\n",
    "# Explore unique values\n",
    "#print 'Unique values in Quality of Life columns:', pd.Series(quality_of_life.values.ravel()).unique()\n",
    "\n",
    "# get rid of rows with don't know (6) ~ approx 5 people removed\n",
    "dont_know_index = quality_of_life.iloc[np.where(np.sum(quality_of_life == 6, axis = 1) > 0)[0]].index\n",
    "quality_of_life_drop = quality_of_life.drop(dont_know_index)\n",
    "#print quality_of_life_drop.shape\n",
    "\n",
    "# Drop these rows from X (df_epi)\n",
    "df_epi = df_epi.drop(dont_know_index)\n",
    "#print df_epi.shape\n",
    "\n",
    "### GET Y: Composite value of quality of life\n",
    "# Count ones in each row as proxy for QOL (6 questions: 3 asked to small children, 3 to older)\n",
    "quality_of_life_drop = quality_of_life_drop.replace(-2, 0) # Replace legitimate skips with zero\n",
    "y_quality = np.sum (quality_of_life_drop, axis = 1)\n",
    "\n",
    "\n",
    "# Plot counts for each level of quality of life\n",
    "y_quality_counts = y_quality.value_counts().sort_index()\n",
    "\n",
    "fig = plt.figure(figsize = (4.5, 4.5))\n",
    "ax = fig.add_subplot(111)\n",
    "y_quality_counts.plot (kind = 'barh')\n",
    "fig.suptitle('Quality of Life within people who have ever had epilepsy', fontsize = 16)\n",
    "\n",
    "# Binary encoding of quality of life: if greater than threshold_health, designate as poor quality\n",
    "threshold_health = 0\n",
    "y_quality_binary = (y_quality > threshold_health).astype (int)\n",
    "\n",
    "## Save y_quality as CSV\n",
    "# y_quality_binary.to_csv ('y_QOL_binary.csv', header = False)"
   ]
  },
  {
   "cell_type": "markdown",
   "metadata": {},
   "source": [
    "___\n",
    "## 4.2.Select Predictor Variables ##\n",
    "<p></p>\n",
    "<font size = \"3\">Given the large set of predictor variables and our challenges in running models on the full predictor set, we decided to take a <b>subset of 39 predictors related to Demographics, Health, and Health Care Access</b>. This set included questions on other health conditions, age, sex, race, poverty level, health insurance, and government assistance. Providing a model based on these easy-to-access features will also provide convenience on using the model in practice.  </font>\n"
   ]
  },
  {
   "cell_type": "code",
   "execution_count": 6,
   "metadata": {
    "collapsed": false
   },
   "outputs": [],
   "source": [
    "#Save df_epi as CSV\n",
    "#df_epi_saved = df_epi.to_csv ('X_full_epilepsy_for_QOL_non_encode.csv')\n",
    "\n",
    "# one hot encode df_epi\n",
    "df_epi_onehot = one_hot_encode_categorical(cat, df_epi, 'X_full_epilepsy_onehot_forQOL.csv')\n",
    "\n",
    "## Extract selected variables to have smaller feature set (X_df_select)\n",
    "demographic = ['AGEYR_CHILD', 'SEX', 'RACER', 'POVERTY_LEVELR' ]\n",
    "ever_had_health = ['K2Q' +str(i) +'A' for i in range(30, 37) +range(40, 42) + range(43, 47) ]\n",
    "current_health = ['K2Q' +str(i) +'B' for i in range(30, 37) +range(40, 42) + range(43, 47) ]\n",
    "current_allergy = ['K2Q' +str(i) +'A' for i in range(47, 52)] \n",
    "health_care = ['K3Q0' + str(i) for i in range(1,5) ]\n",
    "               \n",
    "var_list = demographic + ever_had_health + current_health + current_allergy + health_care\n",
    "X_df_select = df_epi[var_list]\n",
    "#print X_df_select.shape\n",
    "\n",
    "#X_df_select.to_csv('X_select39_epilepsy_for_QOL_non_encode.csv')\n",
    "\n",
    "# One hot encode X_df_select\n",
    "cat_select = list(set(cat).intersection(var_list)) # Find categorical variables in X_df_select\n",
    "X_df_select_dummies = pd.get_dummies (X_df_select, columns = cat_select)\n",
    "#X_df_select_dummies.to_csv('X_select39_epilepsy_for_QOL_onehot.csv')\n"
   ]
  },
  {
   "cell_type": "markdown",
   "metadata": {},
   "source": [
    "___\n",
    "##  4.3.Model Selection##\n",
    "<p></p>\n",
    "<font size = \"3\">To perform binary classification on the quality of life of epilepsy patients, we used Stratified K-Fold Cross Validation to tune the parameters of the following models: LDA, QDA, Random Forest, Support Vector Machines, and Logistic Regression. Because our data contains a roughly equal number of children with \"good\" and \"bad\" quality of life, we do not have the challenge of class imbalances as we did when predicting epilepsy diagnosis. **Model accuracy is reported below**."
   ]
  },
  {
   "cell_type": "markdown",
   "metadata": {},
   "source": [
    "<font size = \"2\"><b><i>PRESS BUTTON ON TOP OF THE PAGE TO SEE CODE</i></b></font>"
   ]
  },
  {
   "cell_type": "code",
   "execution_count": 7,
   "metadata": {
    "collapsed": false
   },
   "outputs": [],
   "source": [
    "## Read quality of life data (one-hot encoded)\n",
    "## the files were saved from the code above\n",
    "x = pd.read_csv('X_select39_epilepsy_for_QOL_onehot.csv')\n",
    "y = pd.read_csv('y_QOL_binary.csv', header = None)\n",
    "# remove the index column\n",
    "y = y[1]\n",
    "# drop the first column of x\n",
    "x = x.drop(x.columns[[0]], axis = 1)\n",
    "#x.head()"
   ]
  },
  {
   "cell_type": "markdown",
   "metadata": {},
   "source": [
    "- <font size = \"4\"><b>Linear Discriminant Analysis (LDA)</b></font>: \n",
    "<p></p>\n",
    "   <font size = \"3\">We performed Linear Discriminant Analysis (LDA) using five-fold cross-validation. We found that a 1:1 prior gave the best model, consistent with the balanced classes in our dataset. </font>"
   ]
  },
  {
   "cell_type": "code",
   "execution_count": 8,
   "metadata": {
    "collapsed": false
   },
   "outputs": [],
   "source": [
    "# LDA\n",
    "model = LDA()\n",
    "\n",
    "# five fold stratified CV\n",
    "skf = StratifiedKFold(n_splits = 5, shuffle = True)\n",
    "# tune priors\n",
    "weights = np.concatenate((np.arange(2,10,1), np.logspace(1,5,5)), axis = 0)\n",
    "prior_list = [np.asarray([1-1/weights[i], 1/weights[i]]) for i in range(len(weights))]\n",
    "\n",
    "# tune the model\n",
    "grid_model = GridSearchCV(model, param_grid = {'priors': prior_list}, \n",
    "                          cv  = skf)\n",
    "grid_model.fit(x, y)\n",
    "lda = grid_model.best_estimator_\n",
    "# CV predict\n",
    "y_pred = cross_val_predict(lda, x, y, cv = skf) \n",
    "\n",
    "# print \"F1: \", metrics.f1_score(y, y_pred)\n",
    "# print \"Accuracy: \", np.mean(y_pred == y)\n",
    "# metrics.confusion_matrix(y, y_pred)"
   ]
  },
  {
   "cell_type": "markdown",
   "metadata": {},
   "source": [
    "- <font size = \"4\"><b>Quadratic Discriminant Analysis (QDA)</b></font>: \n",
    "<p></p>\n",
    "   <font size = \"3\">We performed Quadratic Discriminant Analysis (QDA) using five-fold cross-validation.The class priors and regularization parameter were tuned. </font>"
   ]
  },
  {
   "cell_type": "code",
   "execution_count": 12,
   "metadata": {
    "collapsed": false
   },
   "outputs": [],
   "source": [
    "#QDA\n",
    "model = QDA()\n",
    "\n",
    "# five fold stratified CV\n",
    "skf = StratifiedKFold(n_splits = 5, shuffle = True)\n",
    "\n",
    "# get list of priors\n",
    "weights = np.concatenate((np.arange(2,10,2), np.logspace(1,5,5)), axis = 0)\n",
    "prior_list = [np.asarray([1-1/weights[i], 1/weights[i]]) for i in range(len(weights))]\n",
    "\n",
    "# tune regularization param + priors\n",
    "c = np.logspace (-4, 4, 9)\n",
    "grid_model = GridSearchCV(model, param_grid = {'priors': prior_list, 'reg_param': c},\n",
    "                          cv  = skf)\n",
    "grid_model.fit(x, y)\n",
    "qda = grid_model.best_estimator_\n",
    "# CV predict\n",
    "y_pred = cross_val_predict(qda, x, y, cv = skf) \n",
    "\n",
    "# print \"F1: \", metrics.f1_score(y, y_pred)\n",
    "# print \"Accuracy: \", np.mean(y_pred == y)\n",
    "# metrics.confusion_matrix(y, y_pred)"
   ]
  },
  {
   "cell_type": "markdown",
   "metadata": {},
   "source": [
    "- <font size = \"4\"><b>Random Forest</b></font>: \n",
    "<p></p>\n",
    "   <font size = \"3\">We performed random forest using five-fold cross-validation. The maximum depth of the model was tuned. </font>"
   ]
  },
  {
   "cell_type": "code",
   "execution_count": 13,
   "metadata": {
    "collapsed": false
   },
   "outputs": [],
   "source": [
    "#Random Forest\n",
    "model = ensemble.RandomForestClassifier(n_estimators = 50)\n",
    "\n",
    "# tune depth\n",
    "depths = np.arange(10, 30, 5).astype(int) \n",
    "grid_model = GridSearchCV(model , n_jobs = 5, param_grid = {'max_depth': depths}, \n",
    "                          cv  = skf)\n",
    "grid_model.fit(x, y)\n",
    "rf = grid_model.best_estimator_\n",
    "# CV predict\n",
    "y_pred = cross_val_predict(rf, x, y, cv = skf) \n",
    "\n",
    "# print \"F1: \", metrics.f1_score(y, y_pred)\n",
    "# print \"Accuracy: \", np.mean(y_pred == y)\n",
    "# metrics.confusion_matrix(y, y_pred)"
   ]
  },
  {
   "cell_type": "markdown",
   "metadata": {},
   "source": [
    "- <font size = \"4\"><b>Support Vector Machine (with RBF kernel)</b></font>: \n",
    "<p></p>\n",
    "   <font size = \"3\">We also performed Support Vector Machine with RBF kernel on this dataset. RBF kernel was selected mainly due to its compputational efficiency.</font>"
   ]
  },
  {
   "cell_type": "code",
   "execution_count": 20,
   "metadata": {
    "collapsed": false
   },
   "outputs": [],
   "source": [
    "# SVM\n",
    "model = SVC (probability = True)\n",
    "# use the same reg_param list to tune SVM\n",
    "grid_model = GridSearchCV(model, param_grid = {'C': c},\n",
    "                          cv  = skf)\n",
    "grid_model.fit(x, y)\n",
    "svm = grid_model.best_estimator_\n",
    "# CV predict\n",
    "y_pred = cross_val_predict(svm, x, y, cv = skf) \n",
    "\n",
    "# print \"F1: \", metrics.f1_score(y, y_pred)\n",
    "# print \"Accuracy: \", np.mean(y_pred == y)\n",
    "# metrics.confusion_matrix(y, y_pred)"
   ]
  },
  {
   "cell_type": "markdown",
   "metadata": {},
   "source": [
    "- <font size = \"4\"><b>Logistic Regression</b></font>: \n",
    "<p></p>\n",
    "   <font size = \"3\">Weighted logistic regression were performed using five-fold cross-validation, with the regularization parameter $C$ being tuned. </font>"
   ]
  },
  {
   "cell_type": "code",
   "execution_count": 14,
   "metadata": {
    "collapsed": true
   },
   "outputs": [],
   "source": [
    "# Log\n",
    "model = Log()\n",
    "# use the same reg_param list to tune Log\n",
    "grid_model = GridSearchCV(model, param_grid = {'C': c},\n",
    "                          cv  = skf)\n",
    "grid_model.fit(x, y)\n",
    "log = grid_model.best_estimator_\n",
    "# CV predict\n",
    "y_pred = cross_val_predict(log, x, y, cv = skf) \n",
    "\n",
    "# print \"F1: \", metrics.f1_score(y, y_pred)\n",
    "# print \"Accuracy: \", np.mean(y_pred == y)\n",
    "# metrics.confusion_matrix(y, y_pred)"
   ]
  },
  {
   "cell_type": "markdown",
   "metadata": {},
   "source": [
    "___\n",
    "## 4.4.Model Comparison##\n",
    "<p></p>\n",
    "<font size = 3>After tuning parameters, we found the cross-validation accuracy of each model to be approximately <b>80%</b>. The Receiver Operating Characteristic curve (ROC), which shows the tradeoff between false positive rate and true positive rate, demonstrates that all models perform significantly above chance and have comparable AUCs. Therefore, for a variety of models, <b>we achieved a high classification accuracy and successfully predicted the value of a binary indicator of quality of life in epilepsy patients!</b>.</font> \n",
    "<p></p>\n",
    "<img src=\"https://cloud.githubusercontent.com/assets/9686980/21193023/b74c4ce4-c1f8-11e6-8dad-0926fbdcaa78.JPG\" alt=\"Model result 2\" width = 300 />"
   ]
  },
  {
   "cell_type": "markdown",
   "metadata": {},
   "source": [
    "<p></p>\n",
    "<p><font size=\"3\"><b> ROC plot of the models:</b></font></p>"
   ]
  },
  {
   "cell_type": "code",
   "execution_count": 21,
   "metadata": {
    "collapsed": true
   },
   "outputs": [],
   "source": [
    "def ROC_plot (y_test, y_pred, col, name, ax):\n",
    "    false_positive_rate, true_positive_rate, thresholds = metrics.roc_curve(y_test, y_pred)\n",
    "    roc_auc = metrics.auc(false_positive_rate, true_positive_rate)\n",
    "    \n",
    "    ax.plot(false_positive_rate, true_positive_rate, color = col, label= name + ':AUC = %0.2f'% roc_auc)\n",
    "    ax.plot([0,1],[0,1],'r--')"
   ]
  },
  {
   "cell_type": "code",
   "execution_count": 22,
   "metadata": {
    "collapsed": false
   },
   "outputs": [],
   "source": [
    "# split the dataset into training and testing sets\n",
    "x_train, x_test, y_train, y_test = train_test_split(x, y, test_size=0.3)\n",
    "\n",
    "# train each model on the training set\n",
    "lda.fit(x_train, y_train)\n",
    "qda.fit(x_train, y_train)\n",
    "log.fit(x_train, y_train)\n",
    "rf.fit(x_train, y_train)\n",
    "svm.fit(x_train, y_train)\n",
    "\n",
    "# extract the probability on the testing set\n",
    "proba_log = log.predict_proba(x_test)[:, 1]\n",
    "proba_lda = lda.predict_proba(x_test)[:, 1]\n",
    "proba_qda = qda.predict_proba(x_test)[:, 1]\n",
    "proba_rf = rf.predict_proba(x_test)[:, 1]\n",
    "proba_svm = svm.predict_proba(x_test)[:, 1]"
   ]
  },
  {
   "cell_type": "code",
   "execution_count": 22,
   "metadata": {
    "collapsed": false
   },
   "outputs": [
    {
     "data": {
      "image/png": "[encoded data removed]",
      "text/plain": [
       "<matplotlib.figure.Figure at 0xbf0bb00>"
      ]
     },
     "metadata": {},
     "output_type": "display_data"
    }
   ],
   "source": [
    "color = ['orange','g', 'b','deepskyblue', 'purple']\n",
    "names = ['LogReg', 'LDA', 'QDA', 'RandomForest', 'SVM']\n",
    "\n",
    "\n",
    "fig = plt.figure(figsize = (6, 6))\n",
    "ax = fig.add_subplot(111) \n",
    "\n",
    "ROC_plot(y_test, proba_log, color[0], names[0], ax)\n",
    "ROC_plot(y_test, proba_lda, color[1], names[1], ax)\n",
    "ROC_plot(y_test, proba_qda, color[2], names[2], ax)\n",
    "ROC_plot(y_test, proba_rf, color[3], names[3], ax)\n",
    "ROC_plot(y_test, proba_svm, color[4], names[4], ax)\n",
    "    \n",
    "plt.legend(loc='lower right')\n",
    "plt.xlim([-0.1,1.1])\n",
    "plt.ylim([-0.1,1.1])\n",
    "plt.ylabel('True Positive Rate', fontsize = 16)\n",
    "plt.xlabel('False Positive Rate', fontsize = 16)\n",
    "plt.show()"
   ]
  },
  {
   "cell_type": "markdown",
   "metadata": {},
   "source": [
    "___\n",
    "## 4.5.Feature Importance and Multicollinearity ##\n",
    "<p></p>\n",
    "<font size = \"3\">When training predictive models, <b>Multicollinearity</b>, which refers to correlations among predictors, can complicate the process of identifying important predictors and decrease the stability of the models. Large health data sets like the NSCH commonly have multicollinearity because, for example, health conditions and demographics are correlated with each other. While multicollinearity may not affect the overall fit or accuracy of the model, it is difficult to interpret the effect of a given predictor on the response variable if the predictor is collinear with other predictors. \n",
    "\n",
    "Given our high classification accuracy, we aimed to identify the most important features and interpret the relationship between patient characteristics and quality of life. To rank features by importance in our best model, the Random Forest, we calculated **feature importance** from the Gini Index, and found that the ranking of feature importances changed each time we fit the dataset. This instability indicated that our dataset may suffer from multicollinearity, so we calculated the **Variance Inflation Factor (VIF)** using the statsmodels package in Python. For the $i$th predictor in a dataset, the VIF is calculated by fitting a least-squares regression on the other predictors and calculating the coefficient of determination ($R^2_i$). \n",
    "\n",
    "$$VIF_i = \\frac{1}{1 - R^2_i}$$\n",
    "\n",
    "The VIF describes how much the variance of an estimated regression coefficient is increased because of collinearity. From our boxplot of VIF scores for each of the 39 features, we see that many features have VIF scores larger than 5. Thus, <b>our dataset displays significant multicollinearity, which reduces the interpretability of our model.</b></font>"
   ]
  },
  {
   "cell_type": "code",
   "execution_count": 23,
   "metadata": {
    "collapsed": false
   },
   "outputs": [
    {
     "data": {
      "image/png": "[encoded data removed]",
      "text/plain": [
       "<matplotlib.figure.Figure at 0x1182e5d10>"
      ]
     },
     "metadata": {},
     "output_type": "display_data"
    }
   ],
   "source": [
    "# calculates VIF of 38 epilepsy Quality of Life features, and generates the box plot on the poster\n",
    "df_x_nonencode = pd.read_csv('X_select39_epilepsy_for_QOL_non_encode.csv')\n",
    "# Remove first column\n",
    "df_x_nonencode = df_x_nonencode.drop(df_x_nonencode.columns[0], axis = 1)\n",
    "\n",
    "variance_inflation_values = np.zeros((df_x_nonencode.shape[1]))\n",
    "for i in range(df_x_nonencode.shape[1]):\n",
    "    variance_inflation_values[i] = sm.variance_inflation_factor(df_x_nonencode.values, i)\n",
    "\n",
    "# Create dataframe with variance inflation values\n",
    "VIF_df = pd.DataFrame({'VIF': variance_inflation_values}).set_index(df_x_nonencode.columns)\n",
    "\n",
    "# function to plot VIF\n",
    "def VIF_plot(VIF):\n",
    "    fig = plt.figure(figsize = (5, 5))\n",
    "    bp = plt.boxplot(VIF_df.values, patch_artist=True)\n",
    "    plt.setp(bp['boxes'], color='blue', alpha = 0.7)\n",
    "    plt.setp(bp['whiskers'], color='black')\n",
    "    plt.setp(bp['fliers'], color='red', marker='o')\n",
    "    plt.ylabel('VIF Score', fontsize = 16)\n",
    "    plt.suptitle('VIF Score of 39 Features', fontsize = 16)\n",
    "    \n",
    "# plot VIF\n",
    "VIF_plot(VIF_df)"
   ]
  },
  {
   "cell_type": "markdown",
   "metadata": {},
   "source": [
    "___\n",
    "## 4.6.Principal Component Analysis##\n",
    "<p></p>\n",
    "<font size = \"3\">As shown above, our dataset has significant multicollinearity between predictors. To create an orthogonal set of predictors, and thus solve the problem of multicollinearity, we used Principal Components Analysis to transform our (one hot encoded) dataset, and then fit and cross-validated Logistic Regression on 1, 2, or 3 of the first Principal Components. Because all of our models performed with high accuracy, we decided to use Logistic Regression to reduce computation time. The <b>cross-validated accuracy of Logistic Regression using only the first PC was around 80%</b>, which is close to the accuracy of fitting classifiers on the full set of 39 predictors. Because using only one component gives us high accuracy, and our original predictors are highly correlated, this means that the 1st PCA component captures the separation between the classes in addition to capturing variability in predictors. \n",
    "<p></p>\n",
    "<b>Adding additional PC components to our model did not improve accuracy</b>. Therefore, using a single or a few PCA components has comparable accuracy to the above models. </font>"
   ]
  },
  {
   "cell_type": "code",
   "execution_count": 24,
   "metadata": {
    "collapsed": false
   },
   "outputs": [],
   "source": [
    "# tried the first 1, 2, 3 PCs, and fit into the logistric regression model\n",
    "pca = PCA(n_components= 1)\n",
    "pca.fit(x)\n",
    "x_reduced = pca.transform(x)\n",
    "\n",
    "# Log\n",
    "model = Log()\n",
    "c = np.logspace (-4,4,9)\n",
    "\n",
    "skf = StratifiedKFold(n_splits = 5, shuffle = True)\n",
    "grid_model = GridSearchCV(model, param_grid = {'C': c},\n",
    "                          cv  = skf)\n",
    "grid_model.fit(x_reduced, y)\n",
    "log = grid_model.best_estimator_\n",
    "\n",
    "y_pred_pca = cross_val_predict(log, x_reduced, y, cv = skf) \n",
    "\n",
    "# print \"F1: \", metrics.f1_score(y, y_pred_pca)\n",
    "# print \"Accuracy: \", np.mean(y_pred_pca == y)"
   ]
  },
  {
   "cell_type": "markdown",
   "metadata": {
    "collapsed": false
   },
   "source": [
    "<img src=\"https://cloud.githubusercontent.com/assets/9686980/21193031/bbae7744-c1f8-11e6-9473-0c3627893c1b.JPG\" alt=\"Model result 2\" width = 300 />"
   ]
  },
  {
   "cell_type": "markdown",
   "metadata": {
    "collapsed": true
   },
   "source": [
    "___\n",
    "## 4.7.Multiclass Classification##\n",
    "<p></p>\n",
    "<font size = \"3\">In addition to the binary response variable, we also performed multiclass classification on the quality-of-life variable by keeping the number of YES questions as classes. Since about 50% of the epilepsy patients had no YES answers, and similar number of patients are in the other three classes, we also faced a problem of imbalance classes in this multiclass classification task. To solve this problem, we performed random forest classifier on the dataset. The maximum depth was tuned first with balanced class weights, then the class weights were further tuned to improve the performance of the model. \n",
    "<p></p>\n",
    "<b>The final model performs with an accuracy of 65.6%. </b> \n",
    "<p></p>\n",
    "<font size = \"2\"><b><i>PRESS BUTTON ON TOP OF THE PAGE TO SEE CODE</i></b></font>"
   ]
  },
  {
   "cell_type": "code",
   "execution_count": 26,
   "metadata": {
    "collapsed": false
   },
   "outputs": [],
   "source": [
    "# Multi-class for Quality Of Life\n",
    "### Load Datasets\n",
    "# Y : Quality of Life Composite Metric, takes on values (0,1,2,3)\n",
    "y = y_quality.reshape(962,)\n",
    "\n",
    "# X : one hot encoded 39 selected features for quality of life\n",
    "x = np.array (pd.read_csv('X_select39_epilepsy_for_QOL_onehot.csv'))\n",
    "\n",
    "# Create Array to store y predictions for each model\n",
    "y_pred_models = np.zeros((5, y.shape[0]))\n",
    "\n",
    "# Create list to store best models (models tuned via CV)\n",
    "best_models_cv = []\n",
    "\n",
    "# Use Stratified K Fold Cross Validation (to preserve class frequencies)\n",
    "skf = StratifiedKFold(n_splits = 5, shuffle = True)"
   ]
  },
  {
   "cell_type": "code",
   "execution_count": 28,
   "metadata": {
    "collapsed": false
   },
   "outputs": [],
   "source": [
    "### Random Forest, tuning for class_weight\n",
    "# tune class weight\n",
    "weight = [1,3,10]\n",
    "weight = np.array(weight)\n",
    "\n",
    "# tune the model\n",
    "accuracy = []\n",
    "weights = []\n",
    "for i in weight:\n",
    "    for j in weight:\n",
    "        for k in weight:\n",
    "            for l in weight:\n",
    "                model = ensemble.RandomForestClassifier(n_estimators = 50, max_depth = 10, class_weight={0: i, 1: j, 2: k, 3:l})\n",
    "                depths = np.arange(10, 30, 5).astype(int) \n",
    "                grid_model = GridSearchCV(model , n_jobs = 5, param_grid = {}, \n",
    "                          cv  = skf)\n",
    "                grid_model.fit(x, y)\n",
    "                rf = grid_model.best_estimator_\n",
    "                y_pred = cross_val_predict(rf, x, y, cv = skf) \n",
    "            \n",
    "                #print \"Accuracy: \", np.mean(y_pred == y)\n",
    "                accuracy.append(np.mean(y_pred == y))\n",
    "                weights.append([i,j,k,l])\n",
    "                metrics.confusion_matrix(y, y_pred)\n",
    "# best parameters\n",
    "max_index = np.argmax(accuracy)\n",
    "optimal_class_weight = weights[max_index]\n",
    "\n",
    "# print best accuracy\n",
    "print np.max(accuracy)"
   ]
  },
  {
   "cell_type": "markdown",
   "metadata": {},
   "source": [
    "### Therefore, we successfully predicted the quality of life in epilepsy patients, determining whether patients have any impairments to quality of life (binary classification) as well as the extent of impairment (multiclass classification)."
   ]
  },
  {
   "cell_type": "code",
   "execution_count": 8,
   "metadata": {
    "collapsed": false
   },
   "outputs": [
    {
     "data": {
      "text/html": [
       "<a href=\"https://jy2014.github.io/EpilepsyPrediction/Diagnosis.html\" target=\"_self\">Chapter 3. Predicting Epilepsy Status</a>"
      ],
      "text/plain": [
       "<IPython.core.display.HTML object>"
      ]
     },
     "metadata": {},
     "output_type": "display_data"
    }
   ],
   "source": [
    "%%html\n",
    "<a href=\"https://jy2014.github.io/EpilepsyPrediction/Diagnosis.html\" target=\"_self\">Chapter 3. Predicting Epilepsy Status</a>"
   ]
  },
  {
   "cell_type": "code",
   "execution_count": 6,
   "metadata": {
    "collapsed": false
   },
   "outputs": [
    {
     "data": {
      "text/html": [
       "<a href=\"https://jy2014.github.io/EpilepsyPrediction/Future.html\" target=\"_self\">Future Directions</a>"
      ],
      "text/plain": [
       "<IPython.core.display.HTML object>"
      ]
     },
     "metadata": {},
     "output_type": "display_data"
    }
   ],
   "source": [
    "%%html\n",
    "<a href=\"https://jy2014.github.io/EpilepsyPrediction/Future.html\" target=\"_self\">Future Directions</a>"
   ]
  },
  {
   "cell_type": "code",
   "execution_count": 7,
   "metadata": {
    "collapsed": false
   },
   "outputs": [
    {
     "data": {
      "text/html": [
       "<a href=\"https://jy2014.github.io/EpilepsyPrediction/Home.html\" target=\"_self\">Back to the Home Page</a>"
      ],
      "text/plain": [
       "<IPython.core.display.HTML object>"
      ]
     },
     "metadata": {},
     "output_type": "display_data"
    }
   ],
   "source": [
    "%%html\n",
    "<a href=\"https://jy2014.github.io/EpilepsyPrediction/Home.html\" target=\"_self\">Back to the Home Page</a>"
   ]
  }
 ],
 "metadata": {
  "anaconda-cloud": {},
  "kernelspec": {
   "display_name": "Python [Root]",
   "language": "python",
   "name": "Python [Root]"
  },
  "language_info": {
   "codemirror_mode": {
    "name": "ipython",
    "version": 2
   },
   "file_extension": ".py",
   "mimetype": "text/x-python",
   "name": "python",
   "nbconvert_exporter": "python",
   "pygments_lexer": "ipython2",
   "version": "2.7.12"
  }
 },
 "nbformat": 4,
 "nbformat_minor": 0
}
